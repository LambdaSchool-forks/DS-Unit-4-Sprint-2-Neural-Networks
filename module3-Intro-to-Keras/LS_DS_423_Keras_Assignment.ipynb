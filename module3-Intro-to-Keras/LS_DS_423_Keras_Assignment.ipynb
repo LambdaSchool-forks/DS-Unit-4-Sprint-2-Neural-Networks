{
 "cells": [
  {
   "cell_type": "markdown",
   "metadata": {
    "colab_type": "text",
    "id": "pBQsZEJmubLs"
   },
   "source": [
    "<img align=\"left\" src=\"https://lever-client-logos.s3.amazonaws.com/864372b1-534c-480e-acd5-9711f850815c-1524247202159.png\" width=200>\n",
    "<br></br>\n",
    "\n",
    "# Neural Network Framework (Keras)\n",
    "\n",
    "## *Data Science Unit 4 Sprint 2 Assignmnet 3*\n",
    "\n",
    "## Use the Keras Library to build a Multi-Layer Perceptron Model on the Boston Housing dataset\n",
    "\n",
    "- The Boston Housing dataset comes with the Keras library so use Keras to import it into your notebook. \n",
    "- Normalize the data (all features should have roughly the same scale)\n",
    "- Import the type of model and layers that you will need from Keras.\n",
    "- Instantiate a model object and use `model.add()` to add layers to your model\n",
    "- Since this is a regression model you will have a single output node in the final layer.\n",
    "- Use activation functions that are appropriate for this task\n",
    "- Compile your model\n",
    "- Fit your model and report its accuracy in terms of Mean Squared Error\n",
    "- Use the history object that is returned from model.fit to make graphs of the model's loss or train/validation accuracies by epoch. \n",
    "- Run this same data through a linear regression model. Which achieves higher accuracy?\n",
    "- Do a little bit of feature engineering and see how that affects your neural network model. (you will need to change your model to accept more inputs)\n",
    "- After feature engineering, which model sees a greater accuracy boost due to the new features?"
   ]
  },
  {
   "cell_type": "markdown",
   "metadata": {},
   "source": [
    "## Imports and Data"
   ]
  },
  {
   "cell_type": "code",
   "execution_count": 4,
   "metadata": {
    "colab": {},
    "colab_type": "code",
    "id": "8NLTAR87uYJ-"
   },
   "outputs": [
    {
     "name": "stderr",
     "output_type": "stream",
     "text": [
      "Using TensorFlow backend.\n"
     ]
    }
   ],
   "source": [
    "import tensorflow as tf\n",
    "from keras.datasets import boston_housing\n",
    "\n",
    "from tensorflow.keras.models import Sequential\n",
    "from tensorflow.keras.layers import Dense\n",
    "\n",
    "import numpy as np\n",
    "import pandas as pd\n",
    "import matplotlib.pyplot as plt"
   ]
  },
  {
   "cell_type": "code",
   "execution_count": 182,
   "metadata": {},
   "outputs": [],
   "source": [
    "# load data \n",
    "(X_train, y_train), (X_test, y_test) = boston_housing.load_data()\n",
    "\n",
    "# Normalize data\n",
    "X_train = tf.keras.utils.normalize(X_train, axis=1)\n",
    "X_test = tf.keras.utils.normalize(X_test, axis=1)"
   ]
  },
  {
   "cell_type": "code",
   "execution_count": 183,
   "metadata": {},
   "outputs": [
    {
     "data": {
      "text/plain": [
       "((404, 13), (404,), (102, 13), (102,))"
      ]
     },
     "execution_count": 183,
     "metadata": {},
     "output_type": "execute_result"
    }
   ],
   "source": [
    "X_train.shape, y_train.shape, X_test.shape, y_test.shape"
   ]
  },
  {
   "cell_type": "code",
   "execution_count": 190,
   "metadata": {},
   "outputs": [
    {
     "data": {
      "text/html": [
       "<div>\n",
       "<style scoped>\n",
       "    .dataframe tbody tr th:only-of-type {\n",
       "        vertical-align: middle;\n",
       "    }\n",
       "\n",
       "    .dataframe tbody tr th {\n",
       "        vertical-align: top;\n",
       "    }\n",
       "\n",
       "    .dataframe thead th {\n",
       "        text-align: right;\n",
       "    }\n",
       "</style>\n",
       "<table border=\"1\" class=\"dataframe\">\n",
       "  <thead>\n",
       "    <tr style=\"text-align: right;\">\n",
       "      <th></th>\n",
       "      <th>0</th>\n",
       "      <th>1</th>\n",
       "      <th>2</th>\n",
       "      <th>3</th>\n",
       "      <th>4</th>\n",
       "      <th>5</th>\n",
       "      <th>6</th>\n",
       "      <th>7</th>\n",
       "      <th>8</th>\n",
       "      <th>9</th>\n",
       "      <th>10</th>\n",
       "      <th>11</th>\n",
       "      <th>12</th>\n",
       "    </tr>\n",
       "  </thead>\n",
       "  <tbody>\n",
       "    <tr>\n",
       "      <th>0</th>\n",
       "      <td>0.002412</td>\n",
       "      <td>0.000000</td>\n",
       "      <td>0.015930</td>\n",
       "      <td>0.0</td>\n",
       "      <td>0.001053</td>\n",
       "      <td>0.012020</td>\n",
       "      <td>0.179454</td>\n",
       "      <td>0.007783</td>\n",
       "      <td>0.007828</td>\n",
       "      <td>0.600788</td>\n",
       "      <td>0.041096</td>\n",
       "      <td>0.776719</td>\n",
       "      <td>0.036634</td>\n",
       "    </tr>\n",
       "    <tr>\n",
       "      <th>1</th>\n",
       "      <td>0.000041</td>\n",
       "      <td>0.154587</td>\n",
       "      <td>0.003804</td>\n",
       "      <td>0.0</td>\n",
       "      <td>0.000778</td>\n",
       "      <td>0.014260</td>\n",
       "      <td>0.029418</td>\n",
       "      <td>0.011749</td>\n",
       "      <td>0.003748</td>\n",
       "      <td>0.652077</td>\n",
       "      <td>0.027545</td>\n",
       "      <td>0.740857</td>\n",
       "      <td>0.005827</td>\n",
       "    </tr>\n",
       "    <tr>\n",
       "      <th>2</th>\n",
       "      <td>0.006345</td>\n",
       "      <td>0.000000</td>\n",
       "      <td>0.023446</td>\n",
       "      <td>0.0</td>\n",
       "      <td>0.000817</td>\n",
       "      <td>0.006438</td>\n",
       "      <td>0.129538</td>\n",
       "      <td>0.001726</td>\n",
       "      <td>0.031089</td>\n",
       "      <td>0.862723</td>\n",
       "      <td>0.026167</td>\n",
       "      <td>0.486441</td>\n",
       "      <td>0.004223</td>\n",
       "    </tr>\n",
       "    <tr>\n",
       "      <th>3</th>\n",
       "      <td>0.000087</td>\n",
       "      <td>0.000000</td>\n",
       "      <td>0.011339</td>\n",
       "      <td>0.0</td>\n",
       "      <td>0.001125</td>\n",
       "      <td>0.013190</td>\n",
       "      <td>0.075376</td>\n",
       "      <td>0.013077</td>\n",
       "      <td>0.010924</td>\n",
       "      <td>0.489400</td>\n",
       "      <td>0.044133</td>\n",
       "      <td>0.867155</td>\n",
       "      <td>0.017500</td>\n",
       "    </tr>\n",
       "    <tr>\n",
       "      <th>4</th>\n",
       "      <td>0.004743</td>\n",
       "      <td>0.000000</td>\n",
       "      <td>0.023248</td>\n",
       "      <td>0.0</td>\n",
       "      <td>0.000916</td>\n",
       "      <td>0.008189</td>\n",
       "      <td>0.113541</td>\n",
       "      <td>0.003297</td>\n",
       "      <td>0.030826</td>\n",
       "      <td>0.855411</td>\n",
       "      <td>0.025945</td>\n",
       "      <td>0.502753</td>\n",
       "      <td>0.018816</td>\n",
       "    </tr>\n",
       "  </tbody>\n",
       "</table>\n",
       "</div>"
      ],
      "text/plain": [
       "         0         1         2    3         4         5         6         7   \\\n",
       "0  0.002412  0.000000  0.015930  0.0  0.001053  0.012020  0.179454  0.007783   \n",
       "1  0.000041  0.154587  0.003804  0.0  0.000778  0.014260  0.029418  0.011749   \n",
       "2  0.006345  0.000000  0.023446  0.0  0.000817  0.006438  0.129538  0.001726   \n",
       "3  0.000087  0.000000  0.011339  0.0  0.001125  0.013190  0.075376  0.013077   \n",
       "4  0.004743  0.000000  0.023248  0.0  0.000916  0.008189  0.113541  0.003297   \n",
       "\n",
       "         8         9         10        11        12  \n",
       "0  0.007828  0.600788  0.041096  0.776719  0.036634  \n",
       "1  0.003748  0.652077  0.027545  0.740857  0.005827  \n",
       "2  0.031089  0.862723  0.026167  0.486441  0.004223  \n",
       "3  0.010924  0.489400  0.044133  0.867155  0.017500  \n",
       "4  0.030826  0.855411  0.025945  0.502753  0.018816  "
      ]
     },
     "execution_count": 190,
     "metadata": {},
     "output_type": "execute_result"
    }
   ],
   "source": [
    "pd.DataFrame(X_train).head()"
   ]
  },
  {
   "cell_type": "markdown",
   "metadata": {},
   "source": [
    "## Keras Model"
   ]
  },
  {
   "cell_type": "code",
   "execution_count": 248,
   "metadata": {},
   "outputs": [
    {
     "name": "stdout",
     "output_type": "stream",
     "text": [
      "Model: \"sequential_46\"\n",
      "_________________________________________________________________\n",
      "Layer (type)                 Output Shape              Param #   \n",
      "=================================================================\n",
      "dense_161 (Dense)            (None, 1)                 14        \n",
      "_________________________________________________________________\n",
      "dense_162 (Dense)            (None, 1)                 2         \n",
      "=================================================================\n",
      "Total params: 16\n",
      "Trainable params: 16\n",
      "Non-trainable params: 0\n",
      "_________________________________________________________________\n",
      "102/102 [==============================] - 0s 3ms/sample - loss: 23.2663 - mean_squared_error: 23.2663\n",
      "mean_squared_error: 23.266252517700195\n"
     ]
    }
   ],
   "source": [
    "# Instantiate Model\n",
    "model = Sequential()\n",
    "\n",
    "# Input Layer\n",
    "model.add(Dense(1, input_dim=13, activation='linear'))\n",
    "\n",
    "# # Hidden Layers\n",
    "# model.add(Dense(1, activation='sigmoid')) \n",
    "# model.add(Dense(1, activation='sigmoid')) \n",
    "# model.add(Dense(1, activation='sigmoid')) \n",
    "\n",
    "# Output Layer\n",
    "model.add(Dense(1, activation='linear'))\n",
    "\n",
    "#Compile\n",
    "model.compile(loss='mean_squared_error',\n",
    "                    optimizer='adam',\n",
    "                    metrics=['mean_squared_error'])\n",
    "\n",
    "model.summary()\n",
    "\n",
    "# Hyper Parameters\n",
    "batch_size = 60\n",
    "epochs = 25000\n",
    "\n",
    "# Fit Model\n",
    "history = model.fit(X_train, y_train, epochs=epochs, batch_size=batch_size, verbose=0)\n",
    "\n",
    "# Test Accuracy (Mean Squared Error)\n",
    "scores = model.evaluate(X_test, y_test)\n",
    "print(f'{model.metrics_names[1]}: {scores[1]}')\n",
    "\n",
    "# mse=30 w/ 10K epochs + 3 hidden layers\n",
    "# mse=23 w/ 25K epochs + 0 hidden layers"
   ]
  },
  {
   "cell_type": "markdown",
   "metadata": {},
   "source": [
    "## Graph accuracy"
   ]
  },
  {
   "cell_type": "code",
   "execution_count": 250,
   "metadata": {},
   "outputs": [
    {
     "data": {
      "text/plain": [
       "[<matplotlib.lines.Line2D at 0x1a40a454a8>]"
      ]
     },
     "execution_count": 250,
     "metadata": {},
     "output_type": "execute_result"
    },
    {
     "data": {
      "image/png": "[encoded data removed]",
      "text/plain": [
       "<Figure size 432x288 with 2 Axes>"
      ]
     },
     "metadata": {
      "needs_background": "light"
     },
     "output_type": "display_data"
    }
   ],
   "source": [
    "fig, ((ax1, ax2)) = plt.subplots(1, 2)\n",
    "\n",
    "ax1.plot(history.history['loss'], color = 'r')\n",
    "ax2.plot(history.history['mean_squared_error'], color = 'y')"
   ]
  },
  {
   "cell_type": "markdown",
   "metadata": {},
   "source": [
    "## Try with Linear Regression"
   ]
  },
  {
   "cell_type": "code",
   "execution_count": 251,
   "metadata": {},
   "outputs": [
    {
     "name": "stdout",
     "output_type": "stream",
     "text": [
      "The mean squared error is: 18.16551049349648\n"
     ]
    }
   ],
   "source": [
    "from sklearn.linear_model import LinearRegression\n",
    "from sklearn.metrics import mean_squared_error\n",
    "\n",
    "# Load Data\n",
    "(X_train, y_train), (X_test, y_test) = boston_housing.load_data()\n",
    "\n",
    "# Normalize Data\n",
    "X_train = tf.keras.utils.normalize(X_train, axis=1)\n",
    "X_test = tf.keras.utils.normalize(X_test, axis=1)\n",
    "\n",
    "# Instantiate Model\n",
    "model = LinearRegression()\n",
    "\n",
    "# Fit Model\n",
    "model.fit(X_train,y_train)\n",
    "\n",
    "# Predict\n",
    "y_pred = model.predict(X_test)\n",
    "\n",
    "# Accuracy\n",
    "mse = mean_squared_error(y_test, y_pred)\n",
    "print('The mean squared error is:', mse)"
   ]
  },
  {
   "cell_type": "markdown",
   "metadata": {
    "colab_type": "text",
    "id": "SfcFnOONyuNm"
   },
   "source": [
    "## Use the Keras Library to build an image recognition network using the Fashion-MNIST dataset (also comes with keras)\n",
    "\n",
    "- Load and preprocess the image data similar to how we preprocessed the MNIST data in class.\n",
    "- Make sure to one-hot encode your category labels\n",
    "- Make sure to have your final layer have as many nodes as the number of classes that you want to predict.\n",
    "- Try different hyperparameters. What is the highest accuracy that you are able to achieve.\n",
    "- Use the history object that is returned from model.fit to make graphs of the model's loss or train/validation accuracies by epoch. \n",
    "- Remember that neural networks fall prey to randomness so you may need to run your model multiple times (or use Cross Validation) in order to tell if a change to a hyperparameter is truly producing better results."
   ]
  },
  {
   "cell_type": "code",
   "execution_count": 5,
   "metadata": {
    "colab": {},
    "colab_type": "code",
    "id": "szi6-IpuzaH1"
   },
   "outputs": [],
   "source": [
    "from tensorflow.keras.datasets import fashion_mnist\n",
    "\n",
    "# Load data\n",
    "(X_train, y_train), (X_test, y_test) = fashion_mnist.load_data()\n",
    "\n",
    "# 0 - T-shirt\n",
    "# 1 - Trousers\n",
    "# 2 - Pullover\n",
    "# 3 - Skirt\n",
    "# 4 - Coat\n",
    "# 5 - Sandal\n",
    "# 6 - Shirt\n",
    "# 7 - Sneaker\n",
    "# 8 - Bag\n",
    "# 9 - Boot"
   ]
  },
  {
   "cell_type": "code",
   "execution_count": 6,
   "metadata": {},
   "outputs": [
    {
     "data": {
      "text/plain": [
       "((60000, 28, 28), (60000,), (10000, 28, 28), (10000,))"
      ]
     },
     "execution_count": 6,
     "metadata": {},
     "output_type": "execute_result"
    }
   ],
   "source": [
    "X_train.shape, y_train.shape, X_test.shape, y_test.shape"
   ]
  },
  {
   "cell_type": "code",
   "execution_count": 7,
   "metadata": {},
   "outputs": [
    {
     "data": {
      "text/plain": [
       "<matplotlib.image.AxesImage at 0x639b24b00>"
      ]
     },
     "execution_count": 7,
     "metadata": {},
     "output_type": "execute_result"
    },
    {
     "data": {
      "image/png": "[encoded data removed]",
      "text/plain": [
       "<Figure size 432x288 with 1 Axes>"
      ]
     },
     "metadata": {
      "needs_background": "light"
     },
     "output_type": "display_data"
    }
   ],
   "source": [
    "plt.imshow(X_train[3])"
   ]
  },
  {
   "cell_type": "code",
   "execution_count": 8,
   "metadata": {},
   "outputs": [],
   "source": [
    "# Reshape the data - Flatten?\n",
    "# X_train = X_train.reshape(60000, 784)\n",
    "# X_test = X_test.reshape(10000, 784)\n",
    "\n",
    "from tensorflow.keras.utils import normalize\n",
    "# Normalize the Data\n",
    "X_train = normalize(X_train)\n",
    "X_test = normalize(X_test)"
   ]
  },
  {
   "cell_type": "code",
   "execution_count": 14,
   "metadata": {},
   "outputs": [
    {
     "name": "stdout",
     "output_type": "stream",
     "text": [
      "Train on 54000 samples, validate on 6000 samples\n",
      "Epoch 1/100\n",
      "54000/54000 [==============================] - 8s 156us/sample - loss: 0.4882 - acc: 0.8219 - val_loss: 0.3833 - val_acc: 0.8572\n",
      "Epoch 2/100\n",
      "54000/54000 [==============================] - 7s 133us/sample - loss: 0.3588 - acc: 0.8669 - val_loss: 0.3463 - val_acc: 0.8687\n",
      "Epoch 3/100\n",
      "54000/54000 [==============================] - 6s 115us/sample - loss: 0.3214 - acc: 0.8806 - val_loss: 0.3461 - val_acc: 0.8738\n",
      "Epoch 4/100\n",
      "54000/54000 [==============================] - 7s 137us/sample - loss: 0.2985 - acc: 0.8891 - val_loss: 0.3610 - val_acc: 0.8690\n",
      "Epoch 5/100\n",
      "54000/54000 [==============================] - 6s 119us/sample - loss: 0.2816 - acc: 0.8933 - val_loss: 0.3748 - val_acc: 0.8657\n",
      "Epoch 6/100\n",
      "54000/54000 [==============================] - 6s 116us/sample - loss: 0.2677 - acc: 0.8986 - val_loss: 0.3215 - val_acc: 0.8840\n",
      "Epoch 7/100\n",
      "54000/54000 [==============================] - 6s 109us/sample - loss: 0.2571 - acc: 0.9024 - val_loss: 0.3404 - val_acc: 0.8703\n",
      "Epoch 8/100\n",
      "54000/54000 [==============================] - 6s 117us/sample - loss: 0.2434 - acc: 0.9072 - val_loss: 0.3220 - val_acc: 0.8855\n",
      "Epoch 9/100\n",
      "54000/54000 [==============================] - 10s 185us/sample - loss: 0.2313 - acc: 0.9106 - val_loss: 0.3368 - val_acc: 0.8848\n",
      "Epoch 10/100\n",
      "54000/54000 [==============================] - 10s 192us/sample - loss: 0.2238 - acc: 0.9156 - val_loss: 0.3220 - val_acc: 0.8872\n",
      "Epoch 11/100\n",
      "54000/54000 [==============================] - 8s 151us/sample - loss: 0.2146 - acc: 0.9174 - val_loss: 0.3232 - val_acc: 0.8885\n",
      "Epoch 12/100\n",
      "54000/54000 [==============================] - 11s 198us/sample - loss: 0.2055 - acc: 0.9212 - val_loss: 0.3226 - val_acc: 0.8932\n",
      "Epoch 13/100\n",
      "54000/54000 [==============================] - 12s 219us/sample - loss: 0.2007 - acc: 0.9230 - val_loss: 0.3657 - val_acc: 0.8847\n",
      "Epoch 14/100\n",
      "54000/54000 [==============================] - 10s 184us/sample - loss: 0.1931 - acc: 0.9262 - val_loss: 0.3315 - val_acc: 0.8908\n",
      "Epoch 15/100\n",
      "54000/54000 [==============================] - 10s 187us/sample - loss: 0.1854 - acc: 0.9287 - val_loss: 0.3432 - val_acc: 0.8917\n",
      "Epoch 16/100\n",
      "54000/54000 [==============================] - 10s 194us/sample - loss: 0.1815 - acc: 0.9299 - val_loss: 0.3575 - val_acc: 0.8898\n",
      "Epoch 17/100\n",
      "54000/54000 [==============================] - 10s 176us/sample - loss: 0.1770 - acc: 0.9327 - val_loss: 0.3385 - val_acc: 0.8953\n",
      "Epoch 18/100\n",
      "54000/54000 [==============================] - 11s 211us/sample - loss: 0.1692 - acc: 0.9347 - val_loss: 0.3682 - val_acc: 0.8888\n",
      "Epoch 19/100\n",
      "54000/54000 [==============================] - 8s 155us/sample - loss: 0.1642 - acc: 0.9377 - val_loss: 0.4025 - val_acc: 0.8858\n",
      "Epoch 20/100\n",
      "54000/54000 [==============================] - 7s 138us/sample - loss: 0.1604 - acc: 0.9379 - val_loss: 0.3999 - val_acc: 0.8920\n",
      "Epoch 21/100\n",
      "54000/54000 [==============================] - 8s 142us/sample - loss: 0.1527 - acc: 0.9411 - val_loss: 0.3933 - val_acc: 0.8862\n",
      "Epoch 22/100\n",
      "54000/54000 [==============================] - 7s 134us/sample - loss: 0.1515 - acc: 0.9418 - val_loss: 0.3705 - val_acc: 0.8940\n",
      "Epoch 23/100\n",
      "54000/54000 [==============================] - 7s 125us/sample - loss: 0.1441 - acc: 0.9445 - val_loss: 0.3977 - val_acc: 0.8975\n",
      "Epoch 24/100\n",
      "54000/54000 [==============================] - 5s 86us/sample - loss: 0.1416 - acc: 0.9450 - val_loss: 0.4076 - val_acc: 0.8917\n",
      "Epoch 25/100\n",
      "54000/54000 [==============================] - 4s 66us/sample - loss: 0.1371 - acc: 0.9472 - val_loss: 0.4174 - val_acc: 0.8915\n",
      "Epoch 26/100\n",
      "54000/54000 [==============================] - 4s 76us/sample - loss: 0.1330 - acc: 0.9489 - val_loss: 0.4487 - val_acc: 0.8913\n",
      "Epoch 27/100\n",
      "54000/54000 [==============================] - 4s 79us/sample - loss: 0.1294 - acc: 0.9502 - val_loss: 0.4588 - val_acc: 0.8928\n",
      "Epoch 28/100\n",
      "54000/54000 [==============================] - 4s 70us/sample - loss: 0.1259 - acc: 0.9507 - val_loss: 0.4611 - val_acc: 0.8915\n",
      "Epoch 29/100\n",
      "54000/54000 [==============================] - 4s 71us/sample - loss: 0.1267 - acc: 0.9509 - val_loss: 0.4460 - val_acc: 0.8878\n",
      "Epoch 30/100\n",
      "54000/54000 [==============================] - 4s 73us/sample - loss: 0.1196 - acc: 0.9546 - val_loss: 0.4375 - val_acc: 0.8928\n",
      "Epoch 31/100\n",
      "54000/54000 [==============================] - 4s 69us/sample - loss: 0.1175 - acc: 0.9551 - val_loss: 0.4537 - val_acc: 0.8920\n",
      "Epoch 32/100\n",
      "54000/54000 [==============================] - 4s 69us/sample - loss: 0.1153 - acc: 0.9554 - val_loss: 0.4901 - val_acc: 0.8937\n",
      "Epoch 33/100\n",
      "54000/54000 [==============================] - 4s 75us/sample - loss: 0.1125 - acc: 0.9573 - val_loss: 0.4840 - val_acc: 0.8903\n",
      "Epoch 34/100\n",
      "54000/54000 [==============================] - 4s 82us/sample - loss: 0.1094 - acc: 0.9577 - val_loss: 0.5161 - val_acc: 0.8912\n",
      "Epoch 35/100\n",
      "54000/54000 [==============================] - 4s 77us/sample - loss: 0.1058 - acc: 0.9598 - val_loss: 0.5491 - val_acc: 0.8948\n",
      "Epoch 36/100\n",
      "54000/54000 [==============================] - 4s 69us/sample - loss: 0.1034 - acc: 0.9604 - val_loss: 0.5622 - val_acc: 0.8840\n",
      "Epoch 37/100\n",
      "54000/54000 [==============================] - 4s 66us/sample - loss: 0.1009 - acc: 0.9612 - val_loss: 0.4963 - val_acc: 0.8922\n",
      "Epoch 38/100\n",
      "54000/54000 [==============================] - 4s 66us/sample - loss: 0.1001 - acc: 0.9613 - val_loss: 0.5259 - val_acc: 0.8988\n",
      "Epoch 39/100\n",
      "54000/54000 [==============================] - 3s 64us/sample - loss: 0.0975 - acc: 0.9623 - val_loss: 0.5401 - val_acc: 0.8942\n",
      "Epoch 40/100\n",
      "54000/54000 [==============================] - 4s 66us/sample - loss: 0.0934 - acc: 0.9639 - val_loss: 0.6169 - val_acc: 0.8855\n",
      "Epoch 41/100\n",
      "54000/54000 [==============================] - 3s 64us/sample - loss: 0.0927 - acc: 0.9645 - val_loss: 0.5236 - val_acc: 0.8922\n",
      "Epoch 42/100\n",
      "54000/54000 [==============================] - 3s 64us/sample - loss: 0.0931 - acc: 0.9647 - val_loss: 0.5157 - val_acc: 0.8902\n",
      "Epoch 43/100\n",
      "54000/54000 [==============================] - 3s 61us/sample - loss: 0.0893 - acc: 0.9669 - val_loss: 0.5490 - val_acc: 0.8875\n",
      "Epoch 44/100\n",
      "54000/54000 [==============================] - 3s 60us/sample - loss: 0.0846 - acc: 0.9681 - val_loss: 0.6086 - val_acc: 0.8928\n",
      "Epoch 45/100\n",
      "54000/54000 [==============================] - 3s 61us/sample - loss: 0.0830 - acc: 0.9680 - val_loss: 0.5781 - val_acc: 0.8930\n",
      "Epoch 46/100\n",
      "54000/54000 [==============================] - 3s 60us/sample - loss: 0.0862 - acc: 0.9669 - val_loss: 0.5793 - val_acc: 0.8915\n",
      "Epoch 47/100\n",
      "54000/54000 [==============================] - 3s 64us/sample - loss: 0.0835 - acc: 0.9681 - val_loss: 0.6405 - val_acc: 0.8908\n",
      "Epoch 48/100\n",
      "54000/54000 [==============================] - 3s 60us/sample - loss: 0.0800 - acc: 0.9695 - val_loss: 0.5925 - val_acc: 0.8920\n",
      "Epoch 49/100\n",
      "54000/54000 [==============================] - 3s 60us/sample - loss: 0.0831 - acc: 0.9686 - val_loss: 0.5904 - val_acc: 0.8915\n",
      "Epoch 50/100\n",
      "54000/54000 [==============================] - 3s 63us/sample - loss: 0.0770 - acc: 0.9705 - val_loss: 0.6412 - val_acc: 0.8928\n",
      "Epoch 51/100\n",
      "54000/54000 [==============================] - 4s 71us/sample - loss: 0.0758 - acc: 0.9714 - val_loss: 0.6745 - val_acc: 0.8883\n",
      "Epoch 52/100\n",
      "54000/54000 [==============================] - 3s 60us/sample - loss: 0.0795 - acc: 0.9699 - val_loss: 0.6586 - val_acc: 0.8895\n",
      "Epoch 53/100\n",
      "54000/54000 [==============================] - 3s 61us/sample - loss: 0.0748 - acc: 0.9716 - val_loss: 0.6857 - val_acc: 0.8905\n",
      "Epoch 54/100\n",
      "54000/54000 [==============================] - 3s 60us/sample - loss: 0.0725 - acc: 0.9724 - val_loss: 0.6771 - val_acc: 0.8942\n",
      "Epoch 55/100\n",
      "54000/54000 [==============================] - 3s 61us/sample - loss: 0.0724 - acc: 0.9730 - val_loss: 0.6838 - val_acc: 0.8927\n",
      "Epoch 56/100\n",
      "54000/54000 [==============================] - 3s 63us/sample - loss: 0.0700 - acc: 0.9740 - val_loss: 0.6671 - val_acc: 0.8887\n",
      "Epoch 57/100\n",
      "54000/54000 [==============================] - 3s 64us/sample - loss: 0.0706 - acc: 0.9736 - val_loss: 0.7879 - val_acc: 0.8833\n",
      "Epoch 58/100\n",
      "54000/54000 [==============================] - 3s 60us/sample - loss: 0.0687 - acc: 0.9745 - val_loss: 0.7481 - val_acc: 0.8877\n",
      "Epoch 59/100\n",
      "54000/54000 [==============================] - 3s 61us/sample - loss: 0.0703 - acc: 0.9736 - val_loss: 0.7315 - val_acc: 0.8873\n",
      "Epoch 60/100\n",
      "54000/54000 [==============================] - 3s 63us/sample - loss: 0.0656 - acc: 0.9755 - val_loss: 0.7465 - val_acc: 0.8888\n",
      "Epoch 61/100\n",
      "54000/54000 [==============================] - 3s 60us/sample - loss: 0.0651 - acc: 0.9756 - val_loss: 0.7617 - val_acc: 0.8875\n",
      "Epoch 62/100\n",
      "54000/54000 [==============================] - 3s 61us/sample - loss: 0.0644 - acc: 0.9752 - val_loss: 0.8053 - val_acc: 0.8795\n",
      "Epoch 63/100\n",
      "54000/54000 [==============================] - 3s 65us/sample - loss: 0.0640 - acc: 0.9757 - val_loss: 0.7341 - val_acc: 0.8892\n",
      "Epoch 64/100\n",
      "54000/54000 [==============================] - 4s 69us/sample - loss: 0.0639 - acc: 0.9761 - val_loss: 0.7301 - val_acc: 0.8868\n",
      "Epoch 65/100\n",
      "54000/54000 [==============================] - 5s 84us/sample - loss: 0.0636 - acc: 0.9760 - val_loss: 0.7846 - val_acc: 0.8910\n",
      "Epoch 66/100\n",
      "54000/54000 [==============================] - 3s 63us/sample - loss: 0.0601 - acc: 0.9774 - val_loss: 0.7728 - val_acc: 0.8880\n",
      "Epoch 67/100\n",
      "54000/54000 [==============================] - 3s 60us/sample - loss: 0.0606 - acc: 0.9773 - val_loss: 0.8191 - val_acc: 0.8883\n",
      "Epoch 68/100\n",
      "54000/54000 [==============================] - 4s 75us/sample - loss: 0.0590 - acc: 0.9778 - val_loss: 0.7917 - val_acc: 0.8887\n",
      "Epoch 69/100\n",
      "54000/54000 [==============================] - 4s 67us/sample - loss: 0.0592 - acc: 0.9778 - val_loss: 0.9046 - val_acc: 0.8818\n",
      "Epoch 70/100\n",
      "54000/54000 [==============================] - 5s 87us/sample - loss: 0.0613 - acc: 0.9766 - val_loss: 0.8492 - val_acc: 0.8890\n",
      "Epoch 71/100\n",
      "54000/54000 [==============================] - 4s 73us/sample - loss: 0.0567 - acc: 0.9787 - val_loss: 0.8437 - val_acc: 0.8842\n",
      "Epoch 72/100\n",
      "54000/54000 [==============================] - 4s 77us/sample - loss: 0.0621 - acc: 0.9770 - val_loss: 0.8534 - val_acc: 0.8887\n",
      "Epoch 73/100\n",
      "54000/54000 [==============================] - 4s 72us/sample - loss: 0.0532 - acc: 0.9798 - val_loss: 0.8463 - val_acc: 0.8917\n",
      "Epoch 74/100\n",
      "54000/54000 [==============================] - 4s 67us/sample - loss: 0.0578 - acc: 0.9782 - val_loss: 0.9133 - val_acc: 0.8862\n",
      "Epoch 75/100\n",
      "54000/54000 [==============================] - 4s 67us/sample - loss: 0.0565 - acc: 0.9792 - val_loss: 0.8273 - val_acc: 0.8842\n",
      "Epoch 76/100\n",
      "54000/54000 [==============================] - 4s 71us/sample - loss: 0.0509 - acc: 0.9814 - val_loss: 0.9375 - val_acc: 0.8927\n",
      "Epoch 77/100\n",
      "54000/54000 [==============================] - 4s 67us/sample - loss: 0.0537 - acc: 0.9803 - val_loss: 0.8552 - val_acc: 0.8877\n",
      "Epoch 78/100\n",
      "54000/54000 [==============================] - 4s 68us/sample - loss: 0.0544 - acc: 0.9802 - val_loss: 0.8719 - val_acc: 0.8808\n",
      "Epoch 79/100\n",
      "54000/54000 [==============================] - 4s 69us/sample - loss: 0.0516 - acc: 0.9810 - val_loss: 0.8713 - val_acc: 0.8873\n",
      "Epoch 80/100\n",
      "54000/54000 [==============================] - 4s 71us/sample - loss: 0.0529 - acc: 0.9807 - val_loss: 0.8624 - val_acc: 0.8893\n",
      "Epoch 81/100\n",
      "54000/54000 [==============================] - 4s 69us/sample - loss: 0.0540 - acc: 0.9805 - val_loss: 0.9212 - val_acc: 0.8873\n",
      "Epoch 82/100\n",
      "54000/54000 [==============================] - 4s 68us/sample - loss: 0.0482 - acc: 0.9820 - val_loss: 0.8672 - val_acc: 0.8893\n",
      "Epoch 83/100\n",
      "54000/54000 [==============================] - 4s 77us/sample - loss: 0.0448 - acc: 0.9837 - val_loss: 0.9013 - val_acc: 0.8823\n",
      "Epoch 84/100\n",
      "54000/54000 [==============================] - 4s 76us/sample - loss: 0.0542 - acc: 0.9804 - val_loss: 0.8801 - val_acc: 0.8872\n",
      "Epoch 85/100\n",
      "54000/54000 [==============================] - 4s 70us/sample - loss: 0.0456 - acc: 0.9836 - val_loss: 0.9138 - val_acc: 0.8935\n",
      "Epoch 86/100\n",
      "54000/54000 [==============================] - 4s 67us/sample - loss: 0.0477 - acc: 0.9825 - val_loss: 0.9372 - val_acc: 0.8900\n",
      "Epoch 87/100\n",
      "54000/54000 [==============================] - 3s 63us/sample - loss: 0.0491 - acc: 0.9820 - val_loss: 0.9773 - val_acc: 0.8903\n",
      "Epoch 88/100\n",
      "54000/54000 [==============================] - 4s 65us/sample - loss: 0.0460 - acc: 0.9833 - val_loss: 1.0057 - val_acc: 0.8862\n",
      "Epoch 89/100\n",
      "54000/54000 [==============================] - 4s 77us/sample - loss: 0.0469 - acc: 0.9826 - val_loss: 0.9837 - val_acc: 0.8842\n",
      "Epoch 90/100\n",
      "54000/54000 [==============================] - 4s 83us/sample - loss: 0.0468 - acc: 0.9828 - val_loss: 0.9761 - val_acc: 0.8867\n",
      "Epoch 91/100\n",
      "54000/54000 [==============================] - 4s 76us/sample - loss: 0.0466 - acc: 0.9827 - val_loss: 0.9872 - val_acc: 0.8895\n",
      "Epoch 92/100\n",
      "54000/54000 [==============================] - 4s 73us/sample - loss: 0.0467 - acc: 0.9822 - val_loss: 1.0168 - val_acc: 0.8902\n",
      "Epoch 93/100\n",
      "54000/54000 [==============================] - 3s 62us/sample - loss: 0.0434 - acc: 0.9842 - val_loss: 0.9907 - val_acc: 0.8905\n",
      "Epoch 94/100\n",
      "54000/54000 [==============================] - 3s 64us/sample - loss: 0.0482 - acc: 0.9823 - val_loss: 1.0216 - val_acc: 0.8867\n",
      "Epoch 95/100\n",
      "54000/54000 [==============================] - 3s 59us/sample - loss: 0.0443 - acc: 0.9845 - val_loss: 0.9618 - val_acc: 0.8955\n",
      "Epoch 96/100\n",
      "54000/54000 [==============================] - 3s 64us/sample - loss: 0.0473 - acc: 0.9829 - val_loss: 0.9569 - val_acc: 0.8892\n",
      "Epoch 97/100\n",
      "54000/54000 [==============================] - 4s 65us/sample - loss: 0.0443 - acc: 0.9836 - val_loss: 1.0389 - val_acc: 0.8800\n",
      "Epoch 98/100\n",
      "54000/54000 [==============================] - 4s 66us/sample - loss: 0.0440 - acc: 0.9840 - val_loss: 1.0289 - val_acc: 0.8902\n",
      "Epoch 99/100\n",
      "54000/54000 [==============================] - 3s 60us/sample - loss: 0.0464 - acc: 0.9845 - val_loss: 0.9627 - val_acc: 0.8873\n",
      "Epoch 100/100\n",
      "54000/54000 [==============================] - 3s 63us/sample - loss: 0.0392 - acc: 0.9864 - val_loss: 1.1408 - val_acc: 0.8860\n",
      "10000/10000 [==============================] - 0s 29us/sample - loss: 1.1271 - acc: 0.8807\n",
      "acc: 88.06999921798706\n"
     ]
    }
   ],
   "source": [
    "from keras.layers import Flatten\n",
    "\n",
    "# Instantiate Model\n",
    "model = tf.keras.models.Sequential()\n",
    "\n",
    "# Input Layer\n",
    "model.add(tf.keras.layers.Flatten())\n",
    "model.add(Dense(128, input_dim=784, activation='relu'))\n",
    "\n",
    "# Hidden Layers\n",
    "model.add(Dense(128, activation='relu')) \n",
    "model.add(Dense(128, activation='relu')) \n",
    "\n",
    "# Output\n",
    "model.add(Dense(10,activation='softmax'))\n",
    "\n",
    "# Compile\n",
    "model.compile(optimizer='adam',\n",
    "              loss='sparse_categorical_crossentropy',\n",
    "              metrics=['accuracy'])\n",
    "\n",
    "# Hyperparameters\n",
    "batch_size = 64\n",
    "epochs = 100\n",
    "\n",
    "# Fit\n",
    "history = model.fit(X_train, y_train, epochs=epochs, validation_split=.1)\n",
    "\n",
    "# Test Accuracy\n",
    "scores = model.evaluate(X_test, y_test)\n",
    "print(f'{model.metrics_names[1]}: {scores[1]*100}')"
   ]
  },
  {
   "cell_type": "code",
   "execution_count": 18,
   "metadata": {},
   "outputs": [
    {
     "data": {
      "text/plain": [
       "[<matplotlib.lines.Line2D at 0x638117e10>]"
      ]
     },
     "execution_count": 18,
     "metadata": {},
     "output_type": "execute_result"
    },
    {
     "data": {
      "image/png": "[encoded data removed]",
      "text/plain": [
       "<Figure size 432x288 with 2 Axes>"
      ]
     },
     "metadata": {
      "needs_background": "light"
     },
     "output_type": "display_data"
    }
   ],
   "source": [
    "fig, ((ax1, ax2)) = plt.subplots(1, 2)\n",
    "\n",
    "ax1.plot(history.history['loss'], color = 'r')\n",
    "ax2.plot(history.history['val_loss'], color = 'y')"
   ]
  },
  {
   "cell_type": "markdown",
   "metadata": {
    "colab_type": "text",
    "id": "zv_3xNMjzdLI"
   },
   "source": [
    "## Stretch Goals:\n",
    "\n",
    "- Use Hyperparameter Tuning to make the accuracy of your models as high as possible. (error as low as possible)\n",
    "- Use Cross Validation techniques to get more consistent results with your model.\n",
    "- Use GridSearchCV to try different combinations of hyperparameters. \n",
    "- Start looking into other types of Keras layers for CNNs and RNNs maybe try and build a CNN model for fashion-MNIST to see how the results compare."
   ]
  },
  {
   "cell_type": "code",
   "execution_count": null,
   "metadata": {},
   "outputs": [],
   "source": []
  }
 ],
 "metadata": {
  "colab": {
   "name": "LS_DS_433_Keras_Assignment.ipynb",
   "provenance": [],
   "version": "0.3.2"
  },
  "kernelspec": {
   "display_name": "Python 3",
   "language": "python",
   "name": "python3"
  },
  "language_info": {
   "codemirror_mode": {
    "name": "ipython",
    "version": 3
   },
   "file_extension": ".py",
   "mimetype": "text/x-python",
   "name": "python",
   "nbconvert_exporter": "python",
   "pygments_lexer": "ipython3",
   "version": "3.7.3"
  }
 },
 "nbformat": 4,
 "nbformat_minor": 4
}
