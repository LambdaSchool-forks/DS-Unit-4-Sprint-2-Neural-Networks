{
 "cells": [
  {
   "cell_type": "markdown",
   "metadata": {
    "colab_type": "text",
    "id": "HJzTIkYAsLxw"
   },
   "source": [
    "<img align=\"left\" src=\"https://lever-client-logos.s3.amazonaws.com/864372b1-534c-480e-acd5-9711f850815c-1524247202159.png\" width=200>\n",
    "<br></br>\n",
    "\n",
    "# Neural Network Frameworks (Keras)\n",
    "\n",
    "## *Data Science Unit 4 Sprint 2 Lesson 3*\n",
    "\n",
    "# Lets Use Libraries!\n",
    "\n",
    "The objective of the last two days has been to familiarize you with the fundamentals of neural networks: terminology, structure of networks, forward propagation, error/cost functions, backpropagation, epochs, and gradient descent. We have tried to reinforce these topics by requiring to you code some of the simplest neural networks by hand including Perceptrons (single node neural networks) and Multi-Layer Perceptrons also known as Feed-Forward Neural Networks. Continuing to do things by hand would not be the best use of our limited time. You're ready to graduate from doing things by hand and start using some powerful libraries to build cutting-edge predictive models. "
   ]
  },
  {
   "cell_type": "markdown",
   "metadata": {
    "colab_type": "text",
    "id": "MFYCXc5KdkPE"
   },
   "source": [
    "# Keras\n",
    "\n",
    "> \"Keras is a high-level neural networks API, written in Python and capable of running on top of TensorFlow, CNTK, or Theano. It was developed with a focus on enabling fast experimentation. Being able to go from idea to result with the least possible delay is key to doing good research. Use Keras if you need a deep learning library that:\n",
    "\n",
    "> Allows for easy and fast prototyping (through user friendliness, modularity, and extensibility).\n",
    "Supports both convolutional networks and recurrent networks, as well as combinations of the two.\n",
    "Runs seamlessly on CPU and GPU.\" "
   ]
  },
  {
   "cell_type": "code",
   "execution_count": 2,
   "metadata": {
    "colab": {},
    "colab_type": "code",
    "id": "QEncs0SOsFMT"
   },
   "outputs": [
    {
     "data": {
      "text/plain": [
       "'1.13.1'"
      ]
     },
     "execution_count": 2,
     "metadata": {},
     "output_type": "execute_result"
    }
   ],
   "source": [
    "# Use pip freeze to see what packages/libraries your notebook has access to\n",
    "# !pip freeze\n",
    "\n",
    "import tensorflow\n",
    "tensorflow.__version__"
   ]
  },
  {
   "cell_type": "markdown",
   "metadata": {
    "colab_type": "text",
    "id": "VxgUUpIKn54a"
   },
   "source": [
    "## Our First Keras Model - Perceptron, Batch epochs\n",
    "\n",
    "1) Load Data\n",
    "\n",
    "2) Define Model\n",
    "\n",
    "3) Compile Model\n",
    "\n",
    "4) Fit Model\n",
    "\n",
    "5) Evaluate Model"
   ]
  },
  {
   "cell_type": "markdown",
   "metadata": {
    "colab_type": "text",
    "id": "Md5D67XwqVAf"
   },
   "source": [
    "### Load Data\n",
    "\n",
    "Our life is going to be easier if our data is already cleaned up and numeric, so lets use this dataset from Jason Brownlee that is already numeric and has no column headers so we'll need to slice off the last column of data to act as our y values."
   ]
  },
  {
   "cell_type": "code",
   "execution_count": 3,
   "metadata": {
    "colab": {
     "base_uri": "https://localhost:8080/",
     "height": 109,
     "resources": {
      "http://localhost:8080/nbextensions/google.colab/files.js": {
       "data": "Ly8gQ29weXJpZ2h0IDIwMTcgR29vZ2xlIExMQwovLwovLyBMaWNlbnNlZCB1bmRlciB0aGUgQXBhY2hlIExpY2Vuc2UsIFZlcnNpb24gMi4wICh0aGUgIkxpY2Vuc2UiKTsKLy8geW91IG1heSBub3QgdXNlIHRoaXMgZmlsZSBleGNlcHQgaW4gY29tcGxpYW5jZSB3aXRoIHRoZSBMaWNlbnNlLgovLyBZb3UgbWF5IG9idGFpbiBhIGNvcHkgb2YgdGhlIExpY2Vuc2UgYXQKLy8KLy8gICAgICBodHRwOi8vd3d3LmFwYWNoZS5vcmcvbGljZW5zZXMvTElDRU5TRS0yLjAKLy8KLy8gVW5sZXNzIHJlcXVpcmVkIGJ5IGFwcGxpY2FibGUgbGF3IG9yIGFncmVlZCB0byBpbiB3cml0aW5nLCBzb2Z0d2FyZQovLyBkaXN0cmlidXRlZCB1bmRlciB0aGUgTGljZW5zZSBpcyBkaXN0cmlidXRlZCBvbiBhbiAiQVMgSVMiIEJBU0lTLAovLyBXSVRIT1VUIFdBUlJBTlRJRVMgT1IgQ09ORElUSU9OUyBPRiBBTlkgS0lORCwgZWl0aGVyIGV4cHJlc3Mgb3IgaW1wbGllZC4KLy8gU2VlIHRoZSBMaWNlbnNlIGZvciB0aGUgc3BlY2lmaWMgbGFuZ3VhZ2UgZ292ZXJuaW5nIHBlcm1pc3Npb25zIGFuZAovLyBsaW1pdGF0aW9ucyB1bmRlciB0aGUgTGljZW5zZS4KCi8qKgogKiBAZmlsZW92ZXJ2aWV3IEhlbHBlcnMgZm9yIGdvb2dsZS5jb2xhYiBQeXRob24gbW9kdWxlLgogKi8KKGZ1bmN0aW9uKHNjb3BlKSB7CmZ1bmN0aW9uIHNwYW4odGV4dCwgc3R5bGVBdHRyaWJ1dGVzID0ge30pIHsKICBjb25zdCBlbGVtZW50ID0gZG9jdW1lbnQuY3JlYXRlRWxlbWVudCgnc3BhbicpOwogIGVsZW1lbnQudGV4dENvbnRlbnQgPSB0ZXh0OwogIGZvciAoY29uc3Qga2V5IG9mIE9iamVjdC5rZXlzKHN0eWxlQXR0cmlidXRlcykpIHsKICAgIGVsZW1lbnQuc3R5bGVba2V5XSA9IHN0eWxlQXR0cmlidXRlc1trZXldOwogIH0KICByZXR1cm4gZWxlbWVudDsKfQoKLy8gTWF4IG51bWJlciBvZiBieXRlcyB3aGljaCB3aWxsIGJlIHVwbG9hZGVkIGF0IGEgdGltZS4KY29uc3QgTUFYX1BBWUxPQURfU0laRSA9IDEwMCAqIDEwMjQ7Ci8vIE1heCBhbW91bnQgb2YgdGltZSB0byBibG9jayB3YWl0aW5nIGZvciB0aGUgdXNlci4KY29uc3QgRklMRV9DSEFOR0VfVElNRU9VVF9NUyA9IDMwICogMTAwMDsKCmZ1bmN0aW9uIF91cGxvYWRGaWxlcyhpbnB1dElkLCBvdXRwdXRJZCkgewogIGNvbnN0IHN0ZXBzID0gdXBsb2FkRmlsZXNTdGVwKGlucHV0SWQsIG91dHB1dElkKTsKICBjb25zdCBvdXRwdXRFbGVtZW50ID0gZG9jdW1lbnQuZ2V0RWxlbWVudEJ5SWQob3V0cHV0SWQpOwogIC8vIENhY2hlIHN0ZXBzIG9uIHRoZSBvdXRwdXRFbGVtZW50IHRvIG1ha2UgaXQgYXZhaWxhYmxlIGZvciB0aGUgbmV4dCBjYWxsCiAgLy8gdG8gdXBsb2FkRmlsZXNDb250aW51ZSBmcm9tIFB5dGhvbi4KICBvdXRwdXRFbGVtZW50LnN0ZXBzID0gc3RlcHM7CgogIHJldHVybiBfdXBsb2FkRmlsZXNDb250aW51ZShvdXRwdXRJZCk7Cn0KCi8vIFRoaXMgaXMgcm91Z2hseSBhbiBhc3luYyBnZW5lcmF0b3IgKG5vdCBzdXBwb3J0ZWQgaW4gdGhlIGJyb3dzZXIgeWV0KSwKLy8gd2hlcmUgdGhlcmUgYXJlIG11bHRpcGxlIGFzeW5jaHJvbm91cyBzdGVwcyBhbmQgdGhlIFB5dGhvbiBzaWRlIGlzIGdvaW5nCi8vIHRvIHBvbGwgZm9yIGNvbXBsZXRpb24gb2YgZWFjaCBzdGVwLgovLyBUaGlzIHVzZXMgYSBQcm9taXNlIHRvIGJsb2NrIHRoZSBweXRob24gc2lkZSBvbiBjb21wbGV0aW9uIG9mIGVhY2ggc3RlcCwKLy8gdGhlbiBwYXNzZXMgdGhlIHJlc3VsdCBvZiB0aGUgcHJldmlvdXMgc3RlcCBhcyB0aGUgaW5wdXQgdG8gdGhlIG5leHQgc3RlcC4KZnVuY3Rpb24gX3VwbG9hZEZpbGVzQ29udGludWUob3V0cHV0SWQpIHsKICBjb25zdCBvdXRwdXRFbGVtZW50ID0gZG9jdW1lbnQuZ2V0RWxlbWVudEJ5SWQob3V0cHV0SWQpOwogIGNvbnN0IHN0ZXBzID0gb3V0cHV0RWxlbWVudC5zdGVwczsKCiAgY29uc3QgbmV4dCA9IHN0ZXBzLm5leHQob3V0cHV0RWxlbWVudC5sYXN0UHJvbWlzZVZhbHVlKTsKICByZXR1cm4gUHJvbWlzZS5yZXNvbHZlKG5leHQudmFsdWUucHJvbWlzZSkudGhlbigodmFsdWUpID0+IHsKICAgIC8vIENhY2hlIHRoZSBsYXN0IHByb21pc2UgdmFsdWUgdG8gbWFrZSBpdCBhdmFpbGFibGUgdG8gdGhlIG5leHQKICAgIC8vIHN0ZXAgb2YgdGhlIGdlbmVyYXRvci4KICAgIG91dHB1dEVsZW1lbnQubGFzdFByb21pc2VWYWx1ZSA9IHZhbHVlOwogICAgcmV0dXJuIG5leHQudmFsdWUucmVzcG9uc2U7CiAgfSk7Cn0KCi8qKgogKiBHZW5lcmF0b3IgZnVuY3Rpb24gd2hpY2ggaXMgY2FsbGVkIGJldHdlZW4gZWFjaCBhc3luYyBzdGVwIG9mIHRoZSB1cGxvYWQKICogcHJvY2Vzcy4KICogQHBhcmFtIHtzdHJpbmd9IGlucHV0SWQgRWxlbWVudCBJRCBvZiB0aGUgaW5wdXQgZmlsZSBwaWNrZXIgZWxlbWVudC4KICogQHBhcmFtIHtzdHJpbmd9IG91dHB1dElkIEVsZW1lbnQgSUQgb2YgdGhlIG91dHB1dCBkaXNwbGF5LgogKiBAcmV0dXJuIHshSXRlcmFibGU8IU9iamVjdD59IEl0ZXJhYmxlIG9mIG5leHQgc3RlcHMuCiAqLwpmdW5jdGlvbiogdXBsb2FkRmlsZXNTdGVwKGlucHV0SWQsIG91dHB1dElkKSB7CiAgY29uc3QgaW5wdXRFbGVtZW50ID0gZG9jdW1lbnQuZ2V0RWxlbWVudEJ5SWQoaW5wdXRJZCk7CiAgaW5wdXRFbGVtZW50LmRpc2FibGVkID0gZmFsc2U7CgogIGNvbnN0IG91dHB1dEVsZW1lbnQgPSBkb2N1bWVudC5nZXRFbGVtZW50QnlJZChvdXRwdXRJZCk7CiAgb3V0cHV0RWxlbWVudC5pbm5lckhUTUwgPSAnJzsKCiAgY29uc3QgcGlja2VkUHJvbWlzZSA9IG5ldyBQcm9taXNlKChyZXNvbHZlKSA9PiB7CiAgICBpbnB1dEVsZW1lbnQuYWRkRXZlbnRMaXN0ZW5lcignY2hhbmdlJywgKGUpID0+IHsKICAgICAgcmVzb2x2ZShlLnRhcmdldC5maWxlcyk7CiAgICB9KTsKICB9KTsKCiAgY29uc3QgY2FuY2VsID0gZG9jdW1lbnQuY3JlYXRlRWxlbWVudCgnYnV0dG9uJyk7CiAgaW5wdXRFbGVtZW50LnBhcmVudEVsZW1lbnQuYXBwZW5kQ2hpbGQoY2FuY2VsKTsKICBjYW5jZWwudGV4dENvbnRlbnQgPSAnQ2FuY2VsIHVwbG9hZCc7CiAgY29uc3QgY2FuY2VsUHJvbWlzZSA9IG5ldyBQcm9taXNlKChyZXNvbHZlKSA9PiB7CiAgICBjYW5jZWwub25jbGljayA9ICgpID0+IHsKICAgICAgcmVzb2x2ZShudWxsKTsKICAgIH07CiAgfSk7CgogIC8vIENhbmNlbCB1cGxvYWQgaWYgdXNlciBoYXNuJ3QgcGlja2VkIGFueXRoaW5nIGluIHRpbWVvdXQuCiAgY29uc3QgdGltZW91dFByb21pc2UgPSBuZXcgUHJvbWlzZSgocmVzb2x2ZSkgPT4gewogICAgc2V0VGltZW91dCgoKSA9PiB7CiAgICAgIHJlc29sdmUobnVsbCk7CiAgICB9LCBGSUxFX0NIQU5HRV9USU1FT1VUX01TKTsKICB9KTsKCiAgLy8gV2FpdCBmb3IgdGhlIHVzZXIgdG8gcGljayB0aGUgZmlsZXMuCiAgY29uc3QgZmlsZXMgPSB5aWVsZCB7CiAgICBwcm9taXNlOiBQcm9taXNlLnJhY2UoW3BpY2tlZFByb21pc2UsIHRpbWVvdXRQcm9taXNlLCBjYW5jZWxQcm9taXNlXSksCiAgICByZXNwb25zZTogewogICAgICBhY3Rpb246ICdzdGFydGluZycsCiAgICB9CiAgfTsKCiAgaWYgKCFmaWxlcykgewogICAgcmV0dXJuIHsKICAgICAgcmVzcG9uc2U6IHsKICAgICAgICBhY3Rpb246ICdjb21wbGV0ZScsCiAgICAgIH0KICAgIH07CiAgfQoKICBjYW5jZWwucmVtb3ZlKCk7CgogIC8vIERpc2FibGUgdGhlIGlucHV0IGVsZW1lbnQgc2luY2UgZnVydGhlciBwaWNrcyBhcmUgbm90IGFsbG93ZWQuCiAgaW5wdXRFbGVtZW50LmRpc2FibGVkID0gdHJ1ZTsKCiAgZm9yIChjb25zdCBmaWxlIG9mIGZpbGVzKSB7CiAgICBjb25zdCBsaSA9IGRvY3VtZW50LmNyZWF0ZUVsZW1lbnQoJ2xpJyk7CiAgICBsaS5hcHBlbmQoc3BhbihmaWxlLm5hbWUsIHtmb250V2VpZ2h0OiAnYm9sZCd9KSk7CiAgICBsaS5hcHBlbmQoc3BhbigKICAgICAgICBgKCR7ZmlsZS50eXBlIHx8ICduL2EnfSkgLSAke2ZpbGUuc2l6ZX0gYnl0ZXMsIGAgKwogICAgICAgIGBsYXN0IG1vZGlmaWVkOiAkewogICAgICAgICAgICBmaWxlLmxhc3RNb2RpZmllZERhdGUgPyBmaWxlLmxhc3RNb2RpZmllZERhdGUudG9Mb2NhbGVEYXRlU3RyaW5nKCkgOgogICAgICAgICAgICAgICAgICAgICAgICAgICAgICAgICAgICAnbi9hJ30gLSBgKSk7CiAgICBjb25zdCBwZXJjZW50ID0gc3BhbignMCUgZG9uZScpOwogICAgbGkuYXBwZW5kQ2hpbGQocGVyY2VudCk7CgogICAgb3V0cHV0RWxlbWVudC5hcHBlbmRDaGlsZChsaSk7CgogICAgY29uc3QgZmlsZURhdGFQcm9taXNlID0gbmV3IFByb21pc2UoKHJlc29sdmUpID0+IHsKICAgICAgY29uc3QgcmVhZGVyID0gbmV3IEZpbGVSZWFkZXIoKTsKICAgICAgcmVhZGVyLm9ubG9hZCA9IChlKSA9PiB7CiAgICAgICAgcmVzb2x2ZShlLnRhcmdldC5yZXN1bHQpOwogICAgICB9OwogICAgICByZWFkZXIucmVhZEFzQXJyYXlCdWZmZXIoZmlsZSk7CiAgICB9KTsKICAgIC8vIFdhaXQgZm9yIHRoZSBkYXRhIHRvIGJlIHJlYWR5LgogICAgbGV0IGZpbGVEYXRhID0geWllbGQgewogICAgICBwcm9taXNlOiBmaWxlRGF0YVByb21pc2UsCiAgICAgIHJlc3BvbnNlOiB7CiAgICAgICAgYWN0aW9uOiAnY29udGludWUnLAogICAgICB9CiAgICB9OwoKICAgIC8vIFVzZSBhIGNodW5rZWQgc2VuZGluZyB0byBhdm9pZCBtZXNzYWdlIHNpemUgbGltaXRzLiBTZWUgYi82MjExNTY2MC4KICAgIGxldCBwb3NpdGlvbiA9IDA7CiAgICB3aGlsZSAocG9zaXRpb24gPCBmaWxlRGF0YS5ieXRlTGVuZ3RoKSB7CiAgICAgIGNvbnN0IGxlbmd0aCA9IE1hdGgubWluKGZpbGVEYXRhLmJ5dGVMZW5ndGggLSBwb3NpdGlvbiwgTUFYX1BBWUxPQURfU0laRSk7CiAgICAgIGNvbnN0IGNodW5rID0gbmV3IFVpbnQ4QXJyYXkoZmlsZURhdGEsIHBvc2l0aW9uLCBsZW5ndGgpOwogICAgICBwb3NpdGlvbiArPSBsZW5ndGg7CgogICAgICBjb25zdCBiYXNlNjQgPSBidG9hKFN0cmluZy5mcm9tQ2hhckNvZGUuYXBwbHkobnVsbCwgY2h1bmspKTsKICAgICAgeWllbGQgewogICAgICAgIHJlc3BvbnNlOiB7CiAgICAgICAgICBhY3Rpb246ICdhcHBlbmQnLAogICAgICAgICAgZmlsZTogZmlsZS5uYW1lLAogICAgICAgICAgZGF0YTogYmFzZTY0LAogICAgICAgIH0sCiAgICAgIH07CiAgICAgIHBlcmNlbnQudGV4dENvbnRlbnQgPQogICAgICAgICAgYCR7TWF0aC5yb3VuZCgocG9zaXRpb24gLyBmaWxlRGF0YS5ieXRlTGVuZ3RoKSAqIDEwMCl9JSBkb25lYDsKICAgIH0KICB9CgogIC8vIEFsbCBkb25lLgogIHlpZWxkIHsKICAgIHJlc3BvbnNlOiB7CiAgICAgIGFjdGlvbjogJ2NvbXBsZXRlJywKICAgIH0KICB9Owp9CgpzY29wZS5nb29nbGUgPSBzY29wZS5nb29nbGUgfHwge307CnNjb3BlLmdvb2dsZS5jb2xhYiA9IHNjb3BlLmdvb2dsZS5jb2xhYiB8fCB7fTsKc2NvcGUuZ29vZ2xlLmNvbGFiLl9maWxlcyA9IHsKICBfdXBsb2FkRmlsZXMsCiAgX3VwbG9hZEZpbGVzQ29udGludWUsCn07Cn0pKHNlbGYpOwo=",
       "headers": [
        [
         "content-type",
         "application/javascript"
        ]
       ],
       "ok": true,
       "status": 200,
       "status_text": ""
      }
     }
    },
    "colab_type": "code",
    "id": "bn09phMBpY1J",
    "outputId": "1c45fb6a-e3cb-4ec1-fb85-de52b3c60bae"
   },
   "outputs": [],
   "source": [
    "import pandas as pd\n",
    "\n",
    "url =\"https://raw.githubusercontent.com/jbrownlee/Datasets/master/pima-indians-diabetes.data.csv\"\n",
    "\n",
    "dataset = pd.read_csv(url, header=None)"
   ]
  },
  {
   "cell_type": "code",
   "execution_count": 4,
   "metadata": {},
   "outputs": [
    {
     "data": {
      "text/html": [
       "<div>\n",
       "<style scoped>\n",
       "    .dataframe tbody tr th:only-of-type {\n",
       "        vertical-align: middle;\n",
       "    }\n",
       "\n",
       "    .dataframe tbody tr th {\n",
       "        vertical-align: top;\n",
       "    }\n",
       "\n",
       "    .dataframe thead th {\n",
       "        text-align: right;\n",
       "    }\n",
       "</style>\n",
       "<table border=\"1\" class=\"dataframe\">\n",
       "  <thead>\n",
       "    <tr style=\"text-align: right;\">\n",
       "      <th></th>\n",
       "      <th>0</th>\n",
       "      <th>1</th>\n",
       "      <th>2</th>\n",
       "      <th>3</th>\n",
       "      <th>4</th>\n",
       "      <th>5</th>\n",
       "      <th>6</th>\n",
       "      <th>7</th>\n",
       "      <th>8</th>\n",
       "    </tr>\n",
       "  </thead>\n",
       "  <tbody>\n",
       "    <tr>\n",
       "      <th>0</th>\n",
       "      <td>6</td>\n",
       "      <td>148</td>\n",
       "      <td>72</td>\n",
       "      <td>35</td>\n",
       "      <td>0</td>\n",
       "      <td>33.6</td>\n",
       "      <td>0.627</td>\n",
       "      <td>50</td>\n",
       "      <td>1</td>\n",
       "    </tr>\n",
       "    <tr>\n",
       "      <th>1</th>\n",
       "      <td>1</td>\n",
       "      <td>85</td>\n",
       "      <td>66</td>\n",
       "      <td>29</td>\n",
       "      <td>0</td>\n",
       "      <td>26.6</td>\n",
       "      <td>0.351</td>\n",
       "      <td>31</td>\n",
       "      <td>0</td>\n",
       "    </tr>\n",
       "    <tr>\n",
       "      <th>2</th>\n",
       "      <td>8</td>\n",
       "      <td>183</td>\n",
       "      <td>64</td>\n",
       "      <td>0</td>\n",
       "      <td>0</td>\n",
       "      <td>23.3</td>\n",
       "      <td>0.672</td>\n",
       "      <td>32</td>\n",
       "      <td>1</td>\n",
       "    </tr>\n",
       "    <tr>\n",
       "      <th>3</th>\n",
       "      <td>1</td>\n",
       "      <td>89</td>\n",
       "      <td>66</td>\n",
       "      <td>23</td>\n",
       "      <td>94</td>\n",
       "      <td>28.1</td>\n",
       "      <td>0.167</td>\n",
       "      <td>21</td>\n",
       "      <td>0</td>\n",
       "    </tr>\n",
       "    <tr>\n",
       "      <th>4</th>\n",
       "      <td>0</td>\n",
       "      <td>137</td>\n",
       "      <td>40</td>\n",
       "      <td>35</td>\n",
       "      <td>168</td>\n",
       "      <td>43.1</td>\n",
       "      <td>2.288</td>\n",
       "      <td>33</td>\n",
       "      <td>1</td>\n",
       "    </tr>\n",
       "  </tbody>\n",
       "</table>\n",
       "</div>"
      ],
      "text/plain": [
       "   0    1   2   3    4     5      6   7  8\n",
       "0  6  148  72  35    0  33.6  0.627  50  1\n",
       "1  1   85  66  29    0  26.6  0.351  31  0\n",
       "2  8  183  64   0    0  23.3  0.672  32  1\n",
       "3  1   89  66  23   94  28.1  0.167  21  0\n",
       "4  0  137  40  35  168  43.1  2.288  33  1"
      ]
     },
     "execution_count": 4,
     "metadata": {},
     "output_type": "execute_result"
    }
   ],
   "source": [
    "dataset.head()"
   ]
  },
  {
   "cell_type": "code",
   "execution_count": 5,
   "metadata": {
    "colab": {
     "base_uri": "https://localhost:8080/",
     "height": 725
    },
    "colab_type": "code",
    "id": "FKuofD3Pogil",
    "outputId": "16c2f4fa-93c8-491d-b339-9f35f7918621"
   },
   "outputs": [
    {
     "name": "stdout",
     "output_type": "stream",
     "text": [
      "(768, 8)\n",
      "[[  6.    148.     72.    ...  33.6     0.627  50.   ]\n",
      " [  1.     85.     66.    ...  26.6     0.351  31.   ]\n",
      " [  8.    183.     64.    ...  23.3     0.672  32.   ]\n",
      " ...\n",
      " [  5.    121.     72.    ...  26.2     0.245  30.   ]\n",
      " [  1.    126.     60.    ...  30.1     0.349  47.   ]\n",
      " [  1.     93.     70.    ...  30.4     0.315  23.   ]]\n"
     ]
    }
   ],
   "source": [
    "X = dataset.values[:,0:8]\n",
    "print(X.shape)\n",
    "print(X)"
   ]
  },
  {
   "cell_type": "code",
   "execution_count": 6,
   "metadata": {},
   "outputs": [
    {
     "name": "stdout",
     "output_type": "stream",
     "text": [
      "(768,)\n",
      "[1. 0. 1. 0. 1. 0. 1. 0. 1. 1. 0. 1. 0. 1. 1. 1. 1. 1. 0. 1. 0. 0. 1. 1.\n",
      " 1. 1. 1. 0. 0. 0. 0. 1. 0. 0. 0. 0. 0. 1. 1. 1. 0. 0. 0. 1. 0. 1. 0. 0.\n",
      " 1. 0. 0. 0. 0. 1. 0. 0. 1. 0. 0. 0. 0. 1. 0. 0. 1. 0. 1. 0. 0. 0. 1. 0.\n",
      " 1. 0. 0. 0. 0. 0. 1. 0. 0. 0. 0. 0. 1. 0. 0. 0. 1. 0. 0. 0. 0. 1. 0. 0.\n",
      " 0. 0. 0. 1. 1. 0. 0. 0. 0. 0. 0. 0. 0. 1. 1. 1. 0. 0. 1. 1. 1. 0. 0. 0.\n",
      " 1. 0. 0. 0. 1. 1. 0. 0. 1. 1. 1. 1. 1. 0. 0. 0. 0. 0. 0. 0. 0. 0. 0. 1.\n",
      " 0. 0. 0. 0. 0. 0. 0. 0. 1. 0. 1. 1. 0. 0. 0. 1. 0. 0. 0. 0. 1. 1. 0. 0.\n",
      " 0. 0. 1. 1. 0. 0. 0. 1. 0. 1. 0. 1. 0. 0. 0. 0. 0. 1. 1. 1. 1. 1. 0. 0.\n",
      " 1. 1. 0. 1. 0. 1. 1. 1. 0. 0. 0. 0. 0. 0. 1. 1. 0. 1. 0. 0. 0. 1. 1. 1.\n",
      " 1. 0. 1. 1. 1. 1. 0. 0. 0. 0. 0. 1. 0. 0. 1. 1. 0. 0. 0. 1. 1. 1. 1. 0.\n",
      " 0. 0. 1. 1. 0. 1. 0. 0. 0. 0. 0. 0. 0. 0. 1. 1. 0. 0. 0. 1. 0. 1. 0. 0.\n",
      " 1. 0. 1. 0. 0. 1. 1. 0. 0. 0. 0. 0. 1. 0. 0. 0. 1. 0. 0. 1. 1. 0. 0. 1.\n",
      " 0. 0. 0. 1. 1. 1. 0. 0. 1. 0. 1. 0. 1. 1. 0. 1. 0. 0. 1. 0. 1. 1. 0. 0.\n",
      " 1. 0. 1. 0. 0. 1. 0. 1. 0. 1. 1. 1. 0. 0. 1. 0. 1. 0. 0. 0. 1. 0. 0. 0.\n",
      " 0. 1. 1. 1. 0. 0. 0. 0. 0. 0. 0. 0. 0. 1. 0. 0. 0. 0. 0. 1. 1. 1. 0. 1.\n",
      " 1. 0. 0. 1. 0. 0. 1. 0. 0. 1. 1. 0. 0. 0. 0. 1. 0. 0. 1. 0. 0. 0. 0. 0.\n",
      " 0. 0. 1. 1. 1. 0. 0. 1. 0. 0. 1. 0. 0. 1. 0. 1. 1. 0. 1. 0. 1. 0. 1. 0.\n",
      " 1. 1. 0. 0. 0. 0. 1. 1. 0. 1. 0. 1. 0. 0. 0. 0. 1. 1. 0. 1. 0. 1. 0. 0.\n",
      " 0. 0. 0. 1. 0. 0. 0. 0. 1. 0. 0. 1. 1. 1. 0. 0. 1. 0. 0. 1. 0. 0. 0. 1.\n",
      " 0. 0. 1. 0. 0. 0. 0. 0. 0. 0. 0. 0. 1. 0. 0. 0. 0. 0. 0. 0. 1. 0. 0. 0.\n",
      " 1. 0. 0. 0. 1. 1. 0. 0. 0. 0. 0. 0. 0. 1. 0. 0. 0. 0. 1. 0. 0. 0. 1. 0.\n",
      " 0. 0. 1. 0. 0. 0. 1. 0. 0. 0. 0. 1. 1. 0. 0. 0. 0. 0. 0. 1. 0. 0. 0. 0.\n",
      " 0. 0. 0. 0. 0. 0. 0. 1. 0. 0. 0. 1. 1. 1. 1. 0. 0. 1. 1. 0. 0. 0. 0. 0.\n",
      " 0. 0. 0. 0. 0. 0. 0. 0. 1. 1. 0. 0. 0. 0. 0. 0. 0. 1. 0. 0. 0. 0. 0. 0.\n",
      " 0. 1. 0. 1. 1. 0. 0. 0. 1. 0. 1. 0. 1. 0. 1. 0. 1. 0. 0. 1. 0. 0. 1. 0.\n",
      " 0. 0. 0. 1. 1. 0. 1. 0. 0. 0. 0. 1. 1. 0. 1. 0. 0. 0. 1. 1. 0. 0. 0. 0.\n",
      " 0. 0. 0. 0. 0. 0. 1. 0. 0. 0. 0. 1. 0. 0. 1. 0. 0. 0. 1. 0. 0. 0. 1. 1.\n",
      " 1. 0. 0. 0. 0. 0. 0. 1. 0. 0. 0. 1. 0. 1. 1. 1. 1. 0. 1. 1. 0. 0. 0. 0.\n",
      " 0. 0. 0. 1. 1. 0. 1. 0. 0. 1. 0. 1. 0. 0. 0. 0. 0. 1. 0. 1. 0. 1. 0. 1.\n",
      " 1. 0. 0. 0. 0. 1. 1. 0. 0. 0. 1. 0. 1. 1. 0. 0. 1. 0. 0. 1. 1. 0. 0. 1.\n",
      " 0. 0. 1. 0. 0. 0. 0. 0. 0. 0. 1. 1. 1. 0. 0. 0. 0. 0. 0. 1. 1. 0. 0. 1.\n",
      " 0. 0. 1. 0. 1. 1. 1. 0. 0. 1. 1. 1. 0. 1. 0. 1. 0. 1. 0. 0. 0. 0. 1. 0.]\n"
     ]
    }
   ],
   "source": [
    "y = dataset.values[:,-1]\n",
    "print(y.shape)\n",
    "print(y)"
   ]
  },
  {
   "cell_type": "markdown",
   "metadata": {
    "colab_type": "text",
    "id": "o0xMqOyTs5xt"
   },
   "source": [
    "### Define Model"
   ]
  },
  {
   "cell_type": "code",
   "execution_count": 8,
   "metadata": {
    "colab": {},
    "colab_type": "code",
    "id": "Bp9USczrfu6M"
   },
   "outputs": [],
   "source": [
    "from tensorflow.keras.models import Sequential\n",
    "from tensorflow.keras.layers import Dense\n",
    "import numpy as np\n",
    "\n",
    "np.random.seed(222)"
   ]
  },
  {
   "cell_type": "markdown",
   "metadata": {
    "colab_type": "text",
    "id": "wAzHLg27thoN"
   },
   "source": [
    "I'll instantiate my model as a \"sequential\" model. This just means that I'm going to tell Keras what my model's architecture should be one layer at a time."
   ]
  },
  {
   "cell_type": "code",
   "execution_count": 10,
   "metadata": {
    "colab": {},
    "colab_type": "code",
    "id": "DSNsL49Xp6KI"
   },
   "outputs": [],
   "source": [
    "# https://keras.io/getting-started/sequential-model-guide/\n",
    "model = Sequential()"
   ]
  },
  {
   "cell_type": "markdown",
   "metadata": {
    "colab_type": "text",
    "id": "ZCYX6QzJtvpG"
   },
   "source": [
    "Adding a \"Dense\" layer to our model is how we add \"vanilla\" perceptron-based layers to our neural network. These are also called \"fully-connected\" or \"densely-connected\" layers. They're used as a layer type in lots of other Neural Net Architectures but they're not referred to as perceptrons or multi-layer perceptrons very often in those situations even though that's what they are.\n",
    "\n",
    " > [\"Just your regular densely-connected NN layer.\"](https://keras.io/layers/core/)\n",
    " \n",
    " The first argument is how many neurons we want to have in that layer. To create a perceptron model we will just set it to 1. We will tell it that there will be 8 inputs coming into this layer from our dataset and set it to use the sigmoid activation function."
   ]
  },
  {
   "cell_type": "code",
   "execution_count": 12,
   "metadata": {
    "colab": {
     "base_uri": "https://localhost:8080/",
     "height": 89
    },
    "colab_type": "code",
    "id": "GNzOLidxtvFa",
    "outputId": "35b1457d-0189-49f1-aa6d-3ef15b29bd6e"
   },
   "outputs": [],
   "source": [
    "model.add(Dense(1, input_dim=8, activation='sigmoid')) #Relu is also a valid option"
   ]
  },
  {
   "cell_type": "markdown",
   "metadata": {
    "colab_type": "text",
    "id": "EnI3jwKMtBL2"
   },
   "source": [
    "### Compile Model\n",
    "Using binary_crossentropy as the loss function here is just telling keras that I'm doing binary classification so that it can use the appropriate loss function accordingly. If we were predicting non-binary categories we might assign something like `categorical_crossentropy`. We're also telling keras that we want it to report model accuracy as our main error metric for each epoch. We will also be able to see the overall accuracy once the model has finished training."
   ]
  },
  {
   "cell_type": "code",
   "execution_count": 13,
   "metadata": {
    "colab": {},
    "colab_type": "code",
    "id": "qp6xwYaqurRO"
   },
   "outputs": [],
   "source": [
    "model.compile(loss='binary_crossentropy', optimizer='adam', metrics=['accuracy'])"
   ]
  },
  {
   "cell_type": "markdown",
   "metadata": {},
   "source": [
    "#### Adam Optimizer\n",
    "Check out this links for more background on the Adam optimizer and Stohastic Gradient Descent\n",
    "* [Adam Optimization Algorithm](https://machinelearningmastery.com/adam-optimization-algorithm-for-deep-learning/)\n",
    "* [Adam Optimizer - original paper](https://arxiv.org/abs/1412.6980)"
   ]
  },
  {
   "cell_type": "markdown",
   "metadata": {
    "colab_type": "text",
    "id": "5dW8SZ2Ls9SX"
   },
   "source": [
    "### Fit Model\n",
    "\n",
    "Lets train it up! `model.fit()` has a `batch_size` parameter that we can use if we want to do mini-batch epochs, but since this tabular dataset is pretty small we're just going to delete that parameter. Keras' default `batch_size` is `None` so omiting it will tell Keras to do batch epochs."
   ]
  },
  {
   "cell_type": "code",
   "execution_count": 14,
   "metadata": {},
   "outputs": [
    {
     "name": "stdout",
     "output_type": "stream",
     "text": [
      "WARNING:tensorflow:From //anaconda3/envs/U4-S1-NLP/lib/python3.7/site-packages/tensorflow/python/ops/math_ops.py:3066: to_int32 (from tensorflow.python.ops.math_ops) is deprecated and will be removed in a future version.\n",
      "Instructions for updating:\n",
      "Use tf.cast instead.\n",
      "Epoch 1/150\n",
      "768/768 [==============================] - 1s 1ms/sample - loss: 5.9863 - acc: 0.4922\n",
      "Epoch 2/150\n",
      "768/768 [==============================] - 0s 82us/sample - loss: 5.3631 - acc: 0.5599\n",
      "Epoch 3/150\n",
      "768/768 [==============================] - 0s 85us/sample - loss: 5.3224 - acc: 0.5625\n",
      "Epoch 4/150\n",
      "768/768 [==============================] - 0s 110us/sample - loss: 5.2843 - acc: 0.5716\n",
      "Epoch 5/150\n",
      "768/768 [==============================] - 0s 125us/sample - loss: 5.2594 - acc: 0.5742\n",
      "Epoch 6/150\n",
      "768/768 [==============================] - 0s 125us/sample - loss: 5.2063 - acc: 0.5742\n",
      "Epoch 7/150\n",
      "768/768 [==============================] - 0s 109us/sample - loss: 5.1560 - acc: 0.5768\n",
      "Epoch 8/150\n",
      "768/768 [==============================] - 0s 81us/sample - loss: 5.0995 - acc: 0.5755\n",
      "Epoch 9/150\n",
      "768/768 [==============================] - 0s 86us/sample - loss: 5.0432 - acc: 0.5846\n",
      "Epoch 10/150\n",
      "768/768 [==============================] - 0s 79us/sample - loss: 4.9887 - acc: 0.5885\n",
      "Epoch 11/150\n",
      "768/768 [==============================] - 0s 105us/sample - loss: 4.9515 - acc: 0.5898\n",
      "Epoch 12/150\n",
      "768/768 [==============================] - 0s 84us/sample - loss: 4.9044 - acc: 0.5977\n",
      "Epoch 13/150\n",
      "768/768 [==============================] - 0s 84us/sample - loss: 4.8379 - acc: 0.5924\n",
      "Epoch 14/150\n",
      "768/768 [==============================] - 0s 80us/sample - loss: 4.7613 - acc: 0.5898\n",
      "Epoch 15/150\n",
      "768/768 [==============================] - 0s 90us/sample - loss: 4.6564 - acc: 0.5924\n",
      "Epoch 16/150\n",
      "768/768 [==============================] - 0s 81us/sample - loss: 4.5428 - acc: 0.5951\n",
      "Epoch 17/150\n",
      "768/768 [==============================] - 0s 86us/sample - loss: 4.3989 - acc: 0.5898\n",
      "Epoch 18/150\n",
      "768/768 [==============================] - 0s 92us/sample - loss: 4.2254 - acc: 0.5977\n",
      "Epoch 19/150\n",
      "768/768 [==============================] - 0s 81us/sample - loss: 4.0953 - acc: 0.6029\n",
      "Epoch 20/150\n",
      "768/768 [==============================] - 0s 86us/sample - loss: 3.9514 - acc: 0.6055\n",
      "Epoch 21/150\n",
      "768/768 [==============================] - 0s 88us/sample - loss: 3.8403 - acc: 0.6055\n",
      "Epoch 22/150\n",
      "768/768 [==============================] - 0s 205us/sample - loss: 3.7457 - acc: 0.6068\n",
      "Epoch 23/150\n",
      "768/768 [==============================] - 0s 179us/sample - loss: 3.6627 - acc: 0.6107\n",
      "Epoch 24/150\n",
      "768/768 [==============================] - 0s 93us/sample - loss: 3.5762 - acc: 0.6133\n",
      "Epoch 25/150\n",
      "768/768 [==============================] - 0s 84us/sample - loss: 3.5100 - acc: 0.6133\n",
      "Epoch 26/150\n",
      "768/768 [==============================] - 0s 90us/sample - loss: 3.4618 - acc: 0.6224\n",
      "Epoch 27/150\n",
      "768/768 [==============================] - 0s 87us/sample - loss: 3.4003 - acc: 0.6211\n",
      "Epoch 28/150\n",
      "768/768 [==============================] - 0s 88us/sample - loss: 3.3566 - acc: 0.6224\n",
      "Epoch 29/150\n",
      "768/768 [==============================] - 0s 87us/sample - loss: 3.3180 - acc: 0.6341\n",
      "Epoch 30/150\n",
      "768/768 [==============================] - 0s 90us/sample - loss: 3.2845 - acc: 0.6380\n",
      "Epoch 31/150\n",
      "768/768 [==============================] - 0s 108us/sample - loss: 3.2581 - acc: 0.6380\n",
      "Epoch 32/150\n",
      "768/768 [==============================] - 0s 125us/sample - loss: 3.2334 - acc: 0.6393\n",
      "Epoch 33/150\n",
      "768/768 [==============================] - 0s 110us/sample - loss: 3.2091 - acc: 0.6497\n",
      "Epoch 34/150\n",
      "768/768 [==============================] - 0s 85us/sample - loss: 3.1932 - acc: 0.6497\n",
      "Epoch 35/150\n",
      "768/768 [==============================] - 0s 96us/sample - loss: 3.1736 - acc: 0.6562\n",
      "Epoch 36/150\n",
      "768/768 [==============================] - 0s 80us/sample - loss: 3.1624 - acc: 0.6549\n",
      "Epoch 37/150\n",
      "768/768 [==============================] - 0s 83us/sample - loss: 3.1491 - acc: 0.6641\n",
      "Epoch 38/150\n",
      "768/768 [==============================] - 0s 94us/sample - loss: 3.1366 - acc: 0.6615\n",
      "Epoch 39/150\n",
      "768/768 [==============================] - 0s 80us/sample - loss: 3.1277 - acc: 0.6667\n",
      "Epoch 40/150\n",
      "768/768 [==============================] - 0s 87us/sample - loss: 3.1187 - acc: 0.6667\n",
      "Epoch 41/150\n",
      "768/768 [==============================] - 0s 91us/sample - loss: 3.1151 - acc: 0.6628\n",
      "Epoch 42/150\n",
      "768/768 [==============================] - 0s 85us/sample - loss: 3.1024 - acc: 0.6680\n",
      "Epoch 43/150\n",
      "768/768 [==============================] - 0s 85us/sample - loss: 3.0951 - acc: 0.6706\n",
      "Epoch 44/150\n",
      "768/768 [==============================] - 0s 85us/sample - loss: 3.0875 - acc: 0.6667\n",
      "Epoch 45/150\n",
      "768/768 [==============================] - 0s 83us/sample - loss: 3.0856 - acc: 0.6654\n",
      "Epoch 46/150\n",
      "768/768 [==============================] - 0s 84us/sample - loss: 3.0774 - acc: 0.6693\n",
      "Epoch 47/150\n",
      "768/768 [==============================] - 0s 87us/sample - loss: 3.0711 - acc: 0.6667\n",
      "Epoch 48/150\n",
      "768/768 [==============================] - 0s 86us/sample - loss: 3.0654 - acc: 0.6641\n",
      "Epoch 49/150\n",
      "768/768 [==============================] - 0s 85us/sample - loss: 3.0592 - acc: 0.6641\n",
      "Epoch 50/150\n",
      "768/768 [==============================] - 0s 94us/sample - loss: 3.0574 - acc: 0.6654\n",
      "Epoch 51/150\n",
      "768/768 [==============================] - 0s 83us/sample - loss: 3.0511 - acc: 0.6628\n",
      "Epoch 52/150\n",
      "768/768 [==============================] - 0s 102us/sample - loss: 3.0467 - acc: 0.6719\n",
      "Epoch 53/150\n",
      "768/768 [==============================] - 0s 131us/sample - loss: 3.0408 - acc: 0.6693\n",
      "Epoch 54/150\n",
      "768/768 [==============================] - 0s 96us/sample - loss: 3.0391 - acc: 0.6641\n",
      "Epoch 55/150\n",
      "768/768 [==============================] - 0s 81us/sample - loss: 3.0363 - acc: 0.6641\n",
      "Epoch 56/150\n",
      "768/768 [==============================] - 0s 85us/sample - loss: 3.0298 - acc: 0.6706\n",
      "Epoch 57/150\n",
      "768/768 [==============================] - 0s 82us/sample - loss: 3.0320 - acc: 0.6654\n",
      "Epoch 58/150\n",
      "768/768 [==============================] - 0s 87us/sample - loss: 3.0250 - acc: 0.6706\n",
      "Epoch 59/150\n",
      "768/768 [==============================] - 0s 84us/sample - loss: 3.0243 - acc: 0.6667\n",
      "Epoch 60/150\n",
      "768/768 [==============================] - 0s 93us/sample - loss: 3.0210 - acc: 0.6641\n",
      "Epoch 61/150\n",
      "768/768 [==============================] - 0s 90us/sample - loss: 3.0157 - acc: 0.6719\n",
      "Epoch 62/150\n",
      "768/768 [==============================] - 0s 87us/sample - loss: 3.0105 - acc: 0.6680\n",
      "Epoch 63/150\n",
      "768/768 [==============================] - 0s 94us/sample - loss: 3.0076 - acc: 0.6719\n",
      "Epoch 64/150\n",
      "768/768 [==============================] - 0s 88us/sample - loss: 3.0060 - acc: 0.6680\n",
      "Epoch 65/150\n",
      "768/768 [==============================] - 0s 86us/sample - loss: 3.0004 - acc: 0.6706\n",
      "Epoch 66/150\n",
      "768/768 [==============================] - 0s 88us/sample - loss: 2.9995 - acc: 0.6706\n",
      "Epoch 67/150\n",
      "768/768 [==============================] - 0s 91us/sample - loss: 2.9956 - acc: 0.6758\n",
      "Epoch 68/150\n",
      "768/768 [==============================] - 0s 87us/sample - loss: 2.9924 - acc: 0.6680\n",
      "Epoch 69/150\n",
      "768/768 [==============================] - 0s 85us/sample - loss: 2.9922 - acc: 0.6628\n",
      "Epoch 70/150\n",
      "768/768 [==============================] - 0s 88us/sample - loss: 2.9830 - acc: 0.6706\n",
      "Epoch 71/150\n",
      "768/768 [==============================] - 0s 88us/sample - loss: 2.9766 - acc: 0.6745\n",
      "Epoch 72/150\n",
      "768/768 [==============================] - 0s 86us/sample - loss: 2.9698 - acc: 0.6784\n",
      "Epoch 73/150\n",
      "768/768 [==============================] - 0s 85us/sample - loss: 2.9601 - acc: 0.6771\n",
      "Epoch 74/150\n",
      "768/768 [==============================] - 0s 87us/sample - loss: 2.9445 - acc: 0.6836\n",
      "Epoch 75/150\n",
      "768/768 [==============================] - 0s 86us/sample - loss: 2.8902 - acc: 0.6745\n",
      "Epoch 76/150\n",
      "768/768 [==============================] - 0s 86us/sample - loss: 2.5953 - acc: 0.6406\n",
      "Epoch 77/150\n",
      "768/768 [==============================] - 0s 88us/sample - loss: 1.4537 - acc: 0.5625\n",
      "Epoch 78/150\n",
      "768/768 [==============================] - 0s 83us/sample - loss: 0.6240 - acc: 0.6641\n",
      "Epoch 79/150\n",
      "768/768 [==============================] - 0s 86us/sample - loss: 0.6150 - acc: 0.7031\n",
      "Epoch 80/150\n",
      "768/768 [==============================] - 0s 84us/sample - loss: 0.5990 - acc: 0.7174\n",
      "Epoch 81/150\n",
      "768/768 [==============================] - 0s 81us/sample - loss: 0.5974 - acc: 0.7227\n",
      "Epoch 82/150\n",
      "768/768 [==============================] - 0s 84us/sample - loss: 0.5952 - acc: 0.7279\n",
      "Epoch 83/150\n",
      "768/768 [==============================] - 0s 113us/sample - loss: 0.5990 - acc: 0.7031\n",
      "Epoch 84/150\n",
      "768/768 [==============================] - 0s 112us/sample - loss: 0.5945 - acc: 0.7188\n",
      "Epoch 85/150\n",
      "768/768 [==============================] - 0s 110us/sample - loss: 0.5904 - acc: 0.7122\n",
      "Epoch 86/150\n",
      "768/768 [==============================] - 0s 97us/sample - loss: 0.5900 - acc: 0.7253\n",
      "Epoch 87/150\n",
      "768/768 [==============================] - 0s 85us/sample - loss: 0.5903 - acc: 0.7122\n",
      "Epoch 88/150\n",
      "768/768 [==============================] - 0s 84us/sample - loss: 0.5928 - acc: 0.7109\n",
      "Epoch 89/150\n",
      "768/768 [==============================] - 0s 82us/sample - loss: 0.5906 - acc: 0.7057\n",
      "Epoch 90/150\n",
      "768/768 [==============================] - 0s 81us/sample - loss: 0.5915 - acc: 0.7135\n",
      "Epoch 91/150\n",
      "768/768 [==============================] - 0s 85us/sample - loss: 0.5883 - acc: 0.7161\n",
      "Epoch 92/150\n",
      "768/768 [==============================] - 0s 129us/sample - loss: 0.5888 - acc: 0.7188\n",
      "Epoch 93/150\n",
      "768/768 [==============================] - 0s 244us/sample - loss: 0.5867 - acc: 0.7214\n",
      "Epoch 94/150\n",
      "768/768 [==============================] - 0s 166us/sample - loss: 0.5866 - acc: 0.7122\n",
      "Epoch 95/150\n",
      "768/768 [==============================] - 0s 90us/sample - loss: 0.5852 - acc: 0.7240\n",
      "Epoch 96/150\n",
      "768/768 [==============================] - 0s 87us/sample - loss: 0.5846 - acc: 0.7240\n",
      "Epoch 97/150\n",
      "768/768 [==============================] - 0s 91us/sample - loss: 0.5833 - acc: 0.7188\n",
      "Epoch 98/150\n",
      "768/768 [==============================] - 0s 82us/sample - loss: 0.5829 - acc: 0.7227\n",
      "Epoch 99/150\n",
      "768/768 [==============================] - 0s 82us/sample - loss: 0.5826 - acc: 0.7174\n",
      "Epoch 100/150\n",
      "768/768 [==============================] - 0s 87us/sample - loss: 0.5803 - acc: 0.7161\n",
      "Epoch 101/150\n",
      "768/768 [==============================] - 0s 132us/sample - loss: 0.5793 - acc: 0.7214\n",
      "Epoch 102/150\n",
      "768/768 [==============================] - 0s 173us/sample - loss: 0.5817 - acc: 0.7174\n",
      "Epoch 103/150\n",
      "768/768 [==============================] - 0s 135us/sample - loss: 0.5796 - acc: 0.7240\n",
      "Epoch 104/150\n",
      "768/768 [==============================] - 0s 147us/sample - loss: 0.5784 - acc: 0.7253\n",
      "Epoch 105/150\n",
      "768/768 [==============================] - 0s 128us/sample - loss: 0.5790 - acc: 0.7148\n",
      "Epoch 106/150\n",
      "768/768 [==============================] - 0s 103us/sample - loss: 0.5792 - acc: 0.7214\n",
      "Epoch 107/150\n",
      "768/768 [==============================] - 0s 140us/sample - loss: 0.5766 - acc: 0.7148\n",
      "Epoch 108/150\n",
      "768/768 [==============================] - 0s 196us/sample - loss: 0.5773 - acc: 0.7227\n",
      "Epoch 109/150\n",
      "768/768 [==============================] - 0s 161us/sample - loss: 0.5786 - acc: 0.7174\n",
      "Epoch 110/150\n",
      "768/768 [==============================] - 0s 160us/sample - loss: 0.5796 - acc: 0.7161\n",
      "Epoch 111/150\n",
      "768/768 [==============================] - 0s 189us/sample - loss: 0.5770 - acc: 0.7135\n",
      "Epoch 112/150\n",
      "768/768 [==============================] - 0s 174us/sample - loss: 0.5770 - acc: 0.7161\n",
      "Epoch 113/150\n",
      "768/768 [==============================] - 0s 160us/sample - loss: 0.5747 - acc: 0.7227\n",
      "Epoch 114/150\n",
      "768/768 [==============================] - 0s 168us/sample - loss: 0.5776 - acc: 0.7096\n",
      "Epoch 115/150\n",
      "768/768 [==============================] - 0s 125us/sample - loss: 0.5746 - acc: 0.7188\n",
      "Epoch 116/150\n",
      "768/768 [==============================] - 0s 219us/sample - loss: 0.5726 - acc: 0.7188\n",
      "Epoch 117/150\n",
      "768/768 [==============================] - 0s 184us/sample - loss: 0.5747 - acc: 0.7318\n",
      "Epoch 118/150\n",
      "768/768 [==============================] - 0s 161us/sample - loss: 0.5721 - acc: 0.7227\n",
      "Epoch 119/150\n",
      "768/768 [==============================] - 0s 241us/sample - loss: 0.5729 - acc: 0.7240\n",
      "Epoch 120/150\n",
      "768/768 [==============================] - 0s 174us/sample - loss: 0.5739 - acc: 0.7096\n",
      "Epoch 121/150\n",
      "768/768 [==============================] - 0s 200us/sample - loss: 0.5754 - acc: 0.7188\n",
      "Epoch 122/150\n",
      "768/768 [==============================] - 0s 190us/sample - loss: 0.5717 - acc: 0.7318\n",
      "Epoch 123/150\n",
      "768/768 [==============================] - 0s 86us/sample - loss: 0.5720 - acc: 0.7279\n",
      "Epoch 124/150\n",
      "768/768 [==============================] - 0s 74us/sample - loss: 0.5704 - acc: 0.7279\n",
      "Epoch 125/150\n",
      "768/768 [==============================] - 0s 79us/sample - loss: 0.5701 - acc: 0.7240\n",
      "Epoch 126/150\n",
      "768/768 [==============================] - 0s 165us/sample - loss: 0.5730 - acc: 0.7174\n",
      "Epoch 127/150\n",
      "768/768 [==============================] - 0s 204us/sample - loss: 0.5732 - acc: 0.7305s - loss: 0.5507 - acc: 0.75\n",
      "Epoch 128/150\n",
      "768/768 [==============================] - 0s 110us/sample - loss: 0.5703 - acc: 0.7122\n",
      "Epoch 129/150\n",
      "768/768 [==============================] - 0s 93us/sample - loss: 0.5722 - acc: 0.7057\n",
      "Epoch 130/150\n",
      "768/768 [==============================] - 0s 86us/sample - loss: 0.5754 - acc: 0.7083\n",
      "Epoch 131/150\n",
      "768/768 [==============================] - 0s 87us/sample - loss: 0.5695 - acc: 0.7174\n",
      "Epoch 132/150\n",
      "768/768 [==============================] - 0s 89us/sample - loss: 0.5681 - acc: 0.7227\n",
      "Epoch 133/150\n",
      "768/768 [==============================] - 0s 96us/sample - loss: 0.5673 - acc: 0.7227\n",
      "Epoch 134/150\n",
      "768/768 [==============================] - 0s 84us/sample - loss: 0.5675 - acc: 0.7292\n",
      "Epoch 135/150\n",
      "768/768 [==============================] - 0s 84us/sample - loss: 0.5688 - acc: 0.7331\n",
      "Epoch 136/150\n",
      "768/768 [==============================] - 0s 111us/sample - loss: 0.5675 - acc: 0.7227\n",
      "Epoch 137/150\n",
      "768/768 [==============================] - 0s 116us/sample - loss: 0.5689 - acc: 0.7344\n",
      "Epoch 138/150\n",
      "768/768 [==============================] - 0s 118us/sample - loss: 0.5650 - acc: 0.7279\n",
      "Epoch 139/150\n",
      "768/768 [==============================] - 0s 87us/sample - loss: 0.5643 - acc: 0.7253\n",
      "Epoch 140/150\n",
      "768/768 [==============================] - 0s 184us/sample - loss: 0.5662 - acc: 0.7201\n",
      "Epoch 141/150\n",
      "768/768 [==============================] - 0s 191us/sample - loss: 0.5638 - acc: 0.7174\n",
      "Epoch 142/150\n",
      "768/768 [==============================] - 0s 145us/sample - loss: 0.5686 - acc: 0.7279\n",
      "Epoch 143/150\n",
      "768/768 [==============================] - 0s 130us/sample - loss: 0.5639 - acc: 0.7201\n",
      "Epoch 144/150\n",
      "768/768 [==============================] - 0s 115us/sample - loss: 0.5644 - acc: 0.7305\n",
      "Epoch 145/150\n",
      "768/768 [==============================] - 0s 167us/sample - loss: 0.5625 - acc: 0.7292\n",
      "Epoch 146/150\n",
      "768/768 [==============================] - 0s 139us/sample - loss: 0.5647 - acc: 0.7266\n",
      "Epoch 147/150\n",
      "768/768 [==============================] - 0s 91us/sample - loss: 0.5654 - acc: 0.7266\n",
      "Epoch 148/150\n",
      "768/768 [==============================] - 0s 91us/sample - loss: 0.5647 - acc: 0.7266\n",
      "Epoch 149/150\n",
      "768/768 [==============================] - 0s 84us/sample - loss: 0.5619 - acc: 0.7344\n",
      "Epoch 150/150\n",
      "768/768 [==============================] - 0s 87us/sample - loss: 0.5619 - acc: 0.7188\n"
     ]
    },
    {
     "data": {
      "text/plain": [
       "<tensorflow.python.keras.callbacks.History at 0xb3aebfcf8>"
      ]
     },
     "execution_count": 14,
     "metadata": {},
     "output_type": "execute_result"
    }
   ],
   "source": [
    "model.fit(X,y,epochs=150)"
   ]
  },
  {
   "cell_type": "code",
   "execution_count": 15,
   "metadata": {},
   "outputs": [
    {
     "data": {
      "text/plain": [
       "(768,)"
      ]
     },
     "execution_count": 15,
     "metadata": {},
     "output_type": "execute_result"
    }
   ],
   "source": [
    "y.shape"
   ]
  },
  {
   "cell_type": "code",
   "execution_count": null,
   "metadata": {},
   "outputs": [],
   "source": []
  },
  {
   "cell_type": "markdown",
   "metadata": {},
   "source": [
    "### Evaluate Model"
   ]
  },
  {
   "cell_type": "code",
   "execution_count": 16,
   "metadata": {},
   "outputs": [
    {
     "data": {
      "text/plain": [
       "array([1., 0., 1., 0., 1., 0., 1., 0., 1., 1., 0., 1., 0., 1., 1., 1., 1.,\n",
       "       1., 0., 1., 0., 0., 1., 1., 1., 1., 1., 0., 0., 0., 0., 1., 0., 0.,\n",
       "       0., 0., 0., 1., 1., 1., 0., 0., 0., 1., 0., 1., 0., 0., 1., 0.])"
      ]
     },
     "execution_count": 16,
     "metadata": {},
     "output_type": "execute_result"
    }
   ],
   "source": [
    "y[:50]"
   ]
  },
  {
   "cell_type": "code",
   "execution_count": 17,
   "metadata": {},
   "outputs": [
    {
     "data": {
      "text/plain": [
       "0.3489583333333333"
      ]
     },
     "execution_count": 17,
     "metadata": {},
     "output_type": "execute_result"
    }
   ],
   "source": [
    "sum(y) / len(y) # Predicting never diabetes is 65%"
   ]
  },
  {
   "cell_type": "code",
   "execution_count": 19,
   "metadata": {
    "colab": {
     "base_uri": "https://localhost:8080/",
     "height": 69
    },
    "colab_type": "code",
    "id": "Z1wfKUxszPKa",
    "outputId": "0cdacd1d-6e5a-4bbe-fabb-568cd94724be"
   },
   "outputs": [
    {
     "name": "stdout",
     "output_type": "stream",
     "text": [
      "768/768 [==============================] - 0s 251us/sample - loss: 0.5599 - acc: 0.7422\n",
      "acc: 74.21875\n"
     ]
    }
   ],
   "source": [
    "# evaluate the model\n",
    "scores = model.evaluate(X, y)\n",
    "print(f\"{model.metrics_names[1]}: {scores[1]*100}\")"
   ]
  },
  {
   "cell_type": "markdown",
   "metadata": {
    "colab_type": "text",
    "id": "AIJoRBxHy27n"
   },
   "source": [
    "# Keras MLP Model in 4 lines of code:"
   ]
  },
  {
   "cell_type": "code",
   "execution_count": 21,
   "metadata": {
    "colab": {
     "base_uri": "https://localhost:8080/",
     "height": 5216
    },
    "colab_type": "code",
    "id": "TQxyONqKvFxB",
    "outputId": "12966e66-2297-4f82-85b3-c275a9c38563"
   },
   "outputs": [
    {
     "name": "stdout",
     "output_type": "stream",
     "text": [
      "Epoch 1/150\n",
      "768/768 [==============================] - 1s 735us/sample - loss: 4.9415 - acc: 0.6471\n",
      "Epoch 2/150\n",
      "768/768 [==============================] - 0s 68us/sample - loss: 4.6627 - acc: 0.6510\n",
      "Epoch 3/150\n",
      "768/768 [==============================] - 0s 65us/sample - loss: 4.5151 - acc: 0.6445\n",
      "Epoch 4/150\n",
      "768/768 [==============================] - 0s 67us/sample - loss: 4.4130 - acc: 0.6432\n",
      "Epoch 5/150\n",
      "768/768 [==============================] - 0s 70us/sample - loss: 4.3704 - acc: 0.6354\n",
      "Epoch 6/150\n",
      "768/768 [==============================] - 0s 65us/sample - loss: 4.3370 - acc: 0.6432\n",
      "Epoch 7/150\n",
      "768/768 [==============================] - 0s 65us/sample - loss: 4.2908 - acc: 0.6367\n",
      "Epoch 8/150\n",
      "768/768 [==============================] - 0s 65us/sample - loss: 4.2557 - acc: 0.6354\n",
      "Epoch 9/150\n",
      "768/768 [==============================] - 0s 67us/sample - loss: 4.2003 - acc: 0.6302\n",
      "Epoch 10/150\n",
      "768/768 [==============================] - 0s 66us/sample - loss: 4.1336 - acc: 0.6224\n",
      "Epoch 11/150\n",
      "768/768 [==============================] - 0s 64us/sample - loss: 4.0081 - acc: 0.6250\n",
      "Epoch 12/150\n",
      "768/768 [==============================] - 0s 66us/sample - loss: 3.7570 - acc: 0.6159\n",
      "Epoch 13/150\n",
      "768/768 [==============================] - 0s 68us/sample - loss: 3.0860 - acc: 0.5977\n",
      "Epoch 14/150\n",
      "768/768 [==============================] - 0s 64us/sample - loss: 2.2420 - acc: 0.5924\n",
      "Epoch 15/150\n",
      "768/768 [==============================] - 0s 68us/sample - loss: 1.5942 - acc: 0.5938\n",
      "Epoch 16/150\n",
      "768/768 [==============================] - 0s 64us/sample - loss: 1.3965 - acc: 0.6081\n",
      "Epoch 17/150\n",
      "768/768 [==============================] - 0s 65us/sample - loss: 1.3563 - acc: 0.6016\n",
      "Epoch 18/150\n",
      "768/768 [==============================] - 0s 64us/sample - loss: 1.3145 - acc: 0.6094\n",
      "Epoch 19/150\n",
      "768/768 [==============================] - 0s 67us/sample - loss: 1.2784 - acc: 0.6081\n",
      "Epoch 20/150\n",
      "768/768 [==============================] - 0s 69us/sample - loss: 1.2431 - acc: 0.5990\n",
      "Epoch 21/150\n",
      "768/768 [==============================] - 0s 100us/sample - loss: 1.2029 - acc: 0.6055\n",
      "Epoch 22/150\n",
      "768/768 [==============================] - 0s 212us/sample - loss: 1.1801 - acc: 0.6068\n",
      "Epoch 23/150\n",
      "768/768 [==============================] - 0s 113us/sample - loss: 1.1607 - acc: 0.6068\n",
      "Epoch 24/150\n",
      "768/768 [==============================] - 0s 92us/sample - loss: 1.1311 - acc: 0.6042\n",
      "Epoch 25/150\n",
      "768/768 [==============================] - 0s 70us/sample - loss: 1.0942 - acc: 0.6081\n",
      "Epoch 26/150\n",
      "768/768 [==============================] - 0s 69us/sample - loss: 1.0606 - acc: 0.5990\n",
      "Epoch 27/150\n",
      "768/768 [==============================] - 0s 69us/sample - loss: 1.0507 - acc: 0.6055\n",
      "Epoch 28/150\n",
      "768/768 [==============================] - 0s 71us/sample - loss: 1.0114 - acc: 0.6120\n",
      "Epoch 29/150\n",
      "768/768 [==============================] - 0s 69us/sample - loss: 0.9950 - acc: 0.6003\n",
      "Epoch 30/150\n",
      "768/768 [==============================] - 0s 67us/sample - loss: 0.9676 - acc: 0.6068\n",
      "Epoch 31/150\n",
      "768/768 [==============================] - 0s 83us/sample - loss: 0.9482 - acc: 0.6016\n",
      "Epoch 32/150\n",
      "768/768 [==============================] - 0s 96us/sample - loss: 0.9269 - acc: 0.6133\n",
      "Epoch 33/150\n",
      "768/768 [==============================] - 0s 101us/sample - loss: 0.9113 - acc: 0.6133\n",
      "Epoch 34/150\n",
      "768/768 [==============================] - 0s 93us/sample - loss: 0.9130 - acc: 0.6250\n",
      "Epoch 35/150\n",
      "768/768 [==============================] - 0s 93us/sample - loss: 0.8900 - acc: 0.6133\n",
      "Epoch 36/150\n",
      "768/768 [==============================] - 0s 70us/sample - loss: 0.8579 - acc: 0.6211\n",
      "Epoch 37/150\n",
      "768/768 [==============================] - 0s 69us/sample - loss: 0.8426 - acc: 0.6172\n",
      "Epoch 38/150\n",
      "768/768 [==============================] - 0s 75us/sample - loss: 0.8309 - acc: 0.6289\n",
      "Epoch 39/150\n",
      "768/768 [==============================] - 0s 76us/sample - loss: 0.8099 - acc: 0.6328\n",
      "Epoch 40/150\n",
      "768/768 [==============================] - 0s 80us/sample - loss: 0.8012 - acc: 0.6263\n",
      "Epoch 41/150\n",
      "768/768 [==============================] - 0s 77us/sample - loss: 0.7804 - acc: 0.6315\n",
      "Epoch 42/150\n",
      "768/768 [==============================] - 0s 79us/sample - loss: 0.7713 - acc: 0.6354\n",
      "Epoch 43/150\n",
      "768/768 [==============================] - 0s 86us/sample - loss: 0.7588 - acc: 0.6367\n",
      "Epoch 44/150\n",
      "768/768 [==============================] - 0s 89us/sample - loss: 0.7484 - acc: 0.6393\n",
      "Epoch 45/150\n",
      "768/768 [==============================] - 0s 72us/sample - loss: 0.7360 - acc: 0.6380\n",
      "Epoch 46/150\n",
      "768/768 [==============================] - 0s 83us/sample - loss: 0.7232 - acc: 0.6419\n",
      "Epoch 47/150\n",
      "768/768 [==============================] - 0s 86us/sample - loss: 0.7181 - acc: 0.6536\n",
      "Epoch 48/150\n",
      "768/768 [==============================] - 0s 76us/sample - loss: 0.7234 - acc: 0.6484\n",
      "Epoch 49/150\n",
      "768/768 [==============================] - 0s 89us/sample - loss: 0.6960 - acc: 0.6432\n",
      "Epoch 50/150\n",
      "768/768 [==============================] - 0s 89us/sample - loss: 0.6865 - acc: 0.6589\n",
      "Epoch 51/150\n",
      "768/768 [==============================] - 0s 77us/sample - loss: 0.6838 - acc: 0.6576\n",
      "Epoch 52/150\n",
      "768/768 [==============================] - 0s 88us/sample - loss: 0.6815 - acc: 0.6354\n",
      "Epoch 53/150\n",
      "768/768 [==============================] - 0s 87us/sample - loss: 0.6745 - acc: 0.6576\n",
      "Epoch 54/150\n",
      "768/768 [==============================] - 0s 76us/sample - loss: 0.6601 - acc: 0.6628\n",
      "Epoch 55/150\n",
      "768/768 [==============================] - 0s 93us/sample - loss: 0.6526 - acc: 0.6745\n",
      "Epoch 56/150\n",
      "768/768 [==============================] - 0s 88us/sample - loss: 0.6545 - acc: 0.6693\n",
      "Epoch 57/150\n",
      "768/768 [==============================] - 0s 76us/sample - loss: 0.6522 - acc: 0.6654\n",
      "Epoch 58/150\n",
      "768/768 [==============================] - 0s 92us/sample - loss: 0.6350 - acc: 0.6836\n",
      "Epoch 59/150\n",
      "768/768 [==============================] - 0s 84us/sample - loss: 0.6572 - acc: 0.6562\n",
      "Epoch 60/150\n",
      "768/768 [==============================] - 0s 73us/sample - loss: 0.6480 - acc: 0.6523\n",
      "Epoch 61/150\n",
      "768/768 [==============================] - 0s 84us/sample - loss: 0.6250 - acc: 0.6758\n",
      "Epoch 62/150\n",
      "768/768 [==============================] - 0s 76us/sample - loss: 0.6325 - acc: 0.6719\n",
      "Epoch 63/150\n",
      "768/768 [==============================] - 0s 80us/sample - loss: 0.6187 - acc: 0.6823\n",
      "Epoch 64/150\n",
      "768/768 [==============================] - 0s 78us/sample - loss: 0.6231 - acc: 0.6732\n",
      "Epoch 65/150\n",
      "768/768 [==============================] - 0s 76us/sample - loss: 0.6348 - acc: 0.6693\n",
      "Epoch 66/150\n",
      "768/768 [==============================] - 0s 93us/sample - loss: 0.6164 - acc: 0.6771\n",
      "Epoch 67/150\n",
      "768/768 [==============================] - 0s 87us/sample - loss: 0.6162 - acc: 0.6745\n",
      "Epoch 68/150\n",
      "768/768 [==============================] - 0s 76us/sample - loss: 0.6072 - acc: 0.6875\n",
      "Epoch 69/150\n",
      "768/768 [==============================] - 0s 80us/sample - loss: 0.6115 - acc: 0.6745\n",
      "Epoch 70/150\n",
      "768/768 [==============================] - 0s 91us/sample - loss: 0.6103 - acc: 0.6888\n",
      "Epoch 71/150\n",
      "768/768 [==============================] - 0s 86us/sample - loss: 0.6056 - acc: 0.6888\n",
      "Epoch 72/150\n",
      "768/768 [==============================] - 0s 90us/sample - loss: 0.6043 - acc: 0.6914\n",
      "Epoch 73/150\n",
      "768/768 [==============================] - 0s 74us/sample - loss: 0.6074 - acc: 0.6862\n",
      "Epoch 74/150\n",
      "768/768 [==============================] - 0s 93us/sample - loss: 0.6095 - acc: 0.6810\n",
      "Epoch 75/150\n",
      "768/768 [==============================] - 0s 76us/sample - loss: 0.6113 - acc: 0.6836\n",
      "Epoch 76/150\n",
      "768/768 [==============================] - 0s 94us/sample - loss: 0.6131 - acc: 0.6966\n",
      "Epoch 77/150\n",
      "768/768 [==============================] - 0s 79us/sample - loss: 0.6001 - acc: 0.7005\n",
      "Epoch 78/150\n",
      "768/768 [==============================] - 0s 77us/sample - loss: 0.6057 - acc: 0.6862\n",
      "Epoch 79/150\n",
      "768/768 [==============================] - 0s 79us/sample - loss: 0.5943 - acc: 0.7031\n",
      "Epoch 80/150\n",
      "768/768 [==============================] - 0s 86us/sample - loss: 0.5923 - acc: 0.6953\n",
      "Epoch 81/150\n",
      "768/768 [==============================] - 0s 72us/sample - loss: 0.5930 - acc: 0.7031\n",
      "Epoch 82/150\n",
      "768/768 [==============================] - 0s 75us/sample - loss: 0.6038 - acc: 0.6953\n",
      "Epoch 83/150\n",
      "768/768 [==============================] - 0s 82us/sample - loss: 0.5937 - acc: 0.6888\n",
      "Epoch 84/150\n",
      "768/768 [==============================] - 0s 76us/sample - loss: 0.5962 - acc: 0.6992\n",
      "Epoch 85/150\n",
      "768/768 [==============================] - 0s 79us/sample - loss: 0.5898 - acc: 0.6966\n",
      "Epoch 86/150\n",
      "768/768 [==============================] - 0s 127us/sample - loss: 0.5955 - acc: 0.7005\n",
      "Epoch 87/150\n",
      "768/768 [==============================] - 0s 112us/sample - loss: 0.5905 - acc: 0.7161\n",
      "Epoch 88/150\n",
      "768/768 [==============================] - 0s 84us/sample - loss: 0.6025 - acc: 0.7018\n",
      "Epoch 89/150\n",
      "768/768 [==============================] - 0s 75us/sample - loss: 0.5969 - acc: 0.7018\n",
      "Epoch 90/150\n",
      "768/768 [==============================] - 0s 79us/sample - loss: 0.5925 - acc: 0.7083\n",
      "Epoch 91/150\n",
      "768/768 [==============================] - 0s 81us/sample - loss: 0.5925 - acc: 0.7044\n",
      "Epoch 92/150\n",
      "768/768 [==============================] - 0s 75us/sample - loss: 0.5897 - acc: 0.6979\n",
      "Epoch 93/150\n",
      "768/768 [==============================] - 0s 80us/sample - loss: 0.5886 - acc: 0.7031\n",
      "Epoch 94/150\n",
      "768/768 [==============================] - 0s 80us/sample - loss: 0.5887 - acc: 0.7070\n",
      "Epoch 95/150\n",
      "768/768 [==============================] - 0s 79us/sample - loss: 0.5934 - acc: 0.6927\n",
      "Epoch 96/150\n",
      "768/768 [==============================] - 0s 84us/sample - loss: 0.5957 - acc: 0.6953\n",
      "Epoch 97/150\n",
      "768/768 [==============================] - 0s 88us/sample - loss: 0.6028 - acc: 0.6927\n",
      "Epoch 98/150\n",
      "768/768 [==============================] - 0s 81us/sample - loss: 0.5957 - acc: 0.6992\n",
      "Epoch 99/150\n",
      "768/768 [==============================] - 0s 94us/sample - loss: 0.5899 - acc: 0.7070\n",
      "Epoch 100/150\n",
      "768/768 [==============================] - 0s 75us/sample - loss: 0.5914 - acc: 0.6979\n",
      "Epoch 101/150\n",
      "768/768 [==============================] - 0s 78us/sample - loss: 0.5858 - acc: 0.7083\n",
      "Epoch 102/150\n",
      "768/768 [==============================] - 0s 88us/sample - loss: 0.5891 - acc: 0.6966\n",
      "Epoch 103/150\n",
      "768/768 [==============================] - 0s 89us/sample - loss: 0.5895 - acc: 0.7005\n",
      "Epoch 104/150\n",
      "768/768 [==============================] - 0s 74us/sample - loss: 0.5985 - acc: 0.7070\n",
      "Epoch 105/150\n",
      "768/768 [==============================] - 0s 81us/sample - loss: 0.5896 - acc: 0.7018\n",
      "Epoch 106/150\n",
      "768/768 [==============================] - 0s 89us/sample - loss: 0.5861 - acc: 0.7122\n",
      "Epoch 107/150\n",
      "768/768 [==============================] - 0s 91us/sample - loss: 0.5955 - acc: 0.7109\n",
      "Epoch 108/150\n",
      "768/768 [==============================] - 0s 76us/sample - loss: 0.5873 - acc: 0.7070\n",
      "Epoch 109/150\n",
      "768/768 [==============================] - 0s 81us/sample - loss: 0.5864 - acc: 0.7005\n",
      "Epoch 110/150\n",
      "768/768 [==============================] - 0s 83us/sample - loss: 0.5897 - acc: 0.7096\n",
      "Epoch 111/150\n",
      "768/768 [==============================] - 0s 89us/sample - loss: 0.5911 - acc: 0.7174\n",
      "Epoch 112/150\n",
      "768/768 [==============================] - 0s 81us/sample - loss: 0.5967 - acc: 0.6992\n",
      "Epoch 113/150\n",
      "768/768 [==============================] - 0s 79us/sample - loss: 0.5868 - acc: 0.7174\n",
      "Epoch 114/150\n",
      "768/768 [==============================] - 0s 78us/sample - loss: 0.5847 - acc: 0.7031\n",
      "Epoch 115/150\n",
      "768/768 [==============================] - 0s 97us/sample - loss: 0.5869 - acc: 0.7109\n",
      "Epoch 116/150\n",
      "768/768 [==============================] - 0s 90us/sample - loss: 0.5911 - acc: 0.7109\n",
      "Epoch 117/150\n",
      "768/768 [==============================] - 0s 75us/sample - loss: 0.5814 - acc: 0.7122\n",
      "Epoch 118/150\n",
      "768/768 [==============================] - 0s 79us/sample - loss: 0.5857 - acc: 0.6992\n",
      "Epoch 119/150\n",
      "768/768 [==============================] - 0s 88us/sample - loss: 0.5766 - acc: 0.7161\n",
      "Epoch 120/150\n",
      "768/768 [==============================] - 0s 78us/sample - loss: 0.5926 - acc: 0.7031\n",
      "Epoch 121/150\n",
      "768/768 [==============================] - 0s 82us/sample - loss: 0.5888 - acc: 0.7044\n",
      "Epoch 122/150\n",
      "768/768 [==============================] - 0s 77us/sample - loss: 0.5785 - acc: 0.7174\n",
      "Epoch 123/150\n",
      "768/768 [==============================] - 0s 79us/sample - loss: 0.5807 - acc: 0.7109\n",
      "Epoch 124/150\n",
      "768/768 [==============================] - 0s 90us/sample - loss: 0.5782 - acc: 0.7214\n",
      "Epoch 125/150\n",
      "768/768 [==============================] - 0s 90us/sample - loss: 0.5766 - acc: 0.7135\n",
      "Epoch 126/150\n",
      "768/768 [==============================] - 0s 77us/sample - loss: 0.5838 - acc: 0.7174\n",
      "Epoch 127/150\n",
      "768/768 [==============================] - 0s 80us/sample - loss: 0.5798 - acc: 0.7070\n",
      "Epoch 128/150\n",
      "768/768 [==============================] - 0s 82us/sample - loss: 0.5830 - acc: 0.7109\n",
      "Epoch 129/150\n",
      "768/768 [==============================] - 0s 85us/sample - loss: 0.5757 - acc: 0.7253\n",
      "Epoch 130/150\n",
      "768/768 [==============================] - 0s 85us/sample - loss: 0.5801 - acc: 0.7083\n",
      "Epoch 131/150\n",
      "768/768 [==============================] - 0s 90us/sample - loss: 0.5790 - acc: 0.7161\n",
      "Epoch 132/150\n",
      "768/768 [==============================] - 0s 74us/sample - loss: 0.5775 - acc: 0.7044\n",
      "Epoch 133/150\n",
      "768/768 [==============================] - 0s 79us/sample - loss: 0.5775 - acc: 0.7188\n",
      "Epoch 134/150\n",
      "768/768 [==============================] - 0s 90us/sample - loss: 0.6017 - acc: 0.6914\n",
      "Epoch 135/150\n",
      "768/768 [==============================] - 0s 89us/sample - loss: 0.5884 - acc: 0.7018\n",
      "Epoch 136/150\n",
      "768/768 [==============================] - 0s 77us/sample - loss: 0.5766 - acc: 0.7161\n",
      "Epoch 137/150\n",
      "768/768 [==============================] - 0s 98us/sample - loss: 0.5757 - acc: 0.7214\n",
      "Epoch 138/150\n",
      "768/768 [==============================] - 0s 79us/sample - loss: 0.5770 - acc: 0.7044\n",
      "Epoch 139/150\n",
      "768/768 [==============================] - 0s 79us/sample - loss: 0.5841 - acc: 0.7070\n",
      "Epoch 140/150\n",
      "768/768 [==============================] - 0s 79us/sample - loss: 0.5787 - acc: 0.7096\n",
      "Epoch 141/150\n",
      "768/768 [==============================] - 0s 82us/sample - loss: 0.5776 - acc: 0.7096\n",
      "Epoch 142/150\n",
      "768/768 [==============================] - 0s 91us/sample - loss: 0.5782 - acc: 0.7135\n",
      "Epoch 143/150\n",
      "768/768 [==============================] - 0s 81us/sample - loss: 0.5785 - acc: 0.7070\n",
      "Epoch 144/150\n",
      "768/768 [==============================] - 0s 82us/sample - loss: 0.5792 - acc: 0.7161\n",
      "Epoch 145/150\n",
      "768/768 [==============================] - 0s 93us/sample - loss: 0.5792 - acc: 0.7057\n",
      "Epoch 146/150\n",
      "768/768 [==============================] - 0s 77us/sample - loss: 0.5743 - acc: 0.7109\n",
      "Epoch 147/150\n",
      "768/768 [==============================] - 0s 80us/sample - loss: 0.5760 - acc: 0.7109\n",
      "Epoch 148/150\n",
      "768/768 [==============================] - 0s 83us/sample - loss: 0.5738 - acc: 0.7161\n",
      "Epoch 149/150\n",
      "768/768 [==============================] - 0s 79us/sample - loss: 0.5827 - acc: 0.7044\n",
      "Epoch 150/150\n",
      "768/768 [==============================] - 0s 82us/sample - loss: 0.5823 - acc: 0.7188\n"
     ]
    },
    {
     "data": {
      "text/plain": [
       "<tensorflow.python.keras.callbacks.History at 0xb3b75b908>"
      ]
     },
     "execution_count": 21,
     "metadata": {},
     "output_type": "execute_result"
    }
   ],
   "source": [
    "# This is our perception from Monday's by-hand:\n",
    "\n",
    "model = Sequential()\n",
    "model.add(Dense(1, input_dim=8, activation='sigmoid'))\n",
    "model.compile(loss='binary_crossentropy', optimizer='adam', metrics=['accuracy'])\n",
    "model.fit(X, y, epochs=150)"
   ]
  },
  {
   "cell_type": "code",
   "execution_count": null,
   "metadata": {},
   "outputs": [],
   "source": []
  },
  {
   "cell_type": "code",
   "execution_count": null,
   "metadata": {},
   "outputs": [],
   "source": []
  },
  {
   "cell_type": "markdown",
   "metadata": {
    "colab_type": "text",
    "id": "zHYB7k9q3O8T"
   },
   "source": [
    "### Why are we getting such different results if we re-run the model?\n",
    "\n",
    "<https://machinelearningmastery.com/randomness-in-machine-learning/>"
   ]
  },
  {
   "cell_type": "markdown",
   "metadata": {
    "colab_type": "text",
    "id": "ueDVpctAzvy8"
   },
   "source": [
    "# What architecture should we try?"
   ]
  },
  {
   "cell_type": "code",
   "execution_count": 25,
   "metadata": {
    "colab": {},
    "colab_type": "code",
    "id": "6W2Sc7-LzQo_"
   },
   "outputs": [
    {
     "name": "stdout",
     "output_type": "stream",
     "text": [
      "Epoch 1/150\n",
      "768/768 [==============================] - 1s 1ms/sample - loss: 0.7312 - acc: 0.3594\n",
      "Epoch 2/150\n",
      "768/768 [==============================] - 0s 90us/sample - loss: 0.7082 - acc: 0.5078\n",
      "Epoch 3/150\n",
      "768/768 [==============================] - 0s 91us/sample - loss: 0.6858 - acc: 0.5977\n",
      "Epoch 4/150\n",
      "768/768 [==============================] - 0s 90us/sample - loss: 0.6682 - acc: 0.6393\n",
      "Epoch 5/150\n",
      "768/768 [==============================] - 0s 94us/sample - loss: 0.6598 - acc: 0.6549\n",
      "Epoch 6/150\n",
      "768/768 [==============================] - 0s 89us/sample - loss: 0.6547 - acc: 0.6536\n",
      "Epoch 7/150\n",
      "768/768 [==============================] - 0s 87us/sample - loss: 0.6521 - acc: 0.6497\n",
      "Epoch 8/150\n",
      "768/768 [==============================] - 0s 97us/sample - loss: 0.6500 - acc: 0.6497\n",
      "Epoch 9/150\n",
      "768/768 [==============================] - 0s 88us/sample - loss: 0.6478 - acc: 0.6484\n",
      "Epoch 10/150\n",
      "768/768 [==============================] - 0s 105us/sample - loss: 0.6470 - acc: 0.6445\n",
      "Epoch 11/150\n",
      "768/768 [==============================] - 0s 91us/sample - loss: 0.6452 - acc: 0.6471\n",
      "Epoch 12/150\n",
      "768/768 [==============================] - 0s 92us/sample - loss: 0.6439 - acc: 0.6484\n",
      "Epoch 13/150\n",
      "768/768 [==============================] - 0s 95us/sample - loss: 0.6424 - acc: 0.6484\n",
      "Epoch 14/150\n",
      "768/768 [==============================] - 0s 90us/sample - loss: 0.6417 - acc: 0.6484\n",
      "Epoch 15/150\n",
      "768/768 [==============================] - 0s 92us/sample - loss: 0.6414 - acc: 0.6497\n",
      "Epoch 16/150\n",
      "768/768 [==============================] - 0s 171us/sample - loss: 0.6393 - acc: 0.6497\n",
      "Epoch 17/150\n",
      "768/768 [==============================] - 0s 181us/sample - loss: 0.6389 - acc: 0.6497\n",
      "Epoch 18/150\n",
      "768/768 [==============================] - 0s 109us/sample - loss: 0.6378 - acc: 0.6497\n",
      "Epoch 19/150\n",
      "768/768 [==============================] - 0s 96us/sample - loss: 0.6373 - acc: 0.6497\n",
      "Epoch 20/150\n",
      "768/768 [==============================] - 0s 95us/sample - loss: 0.6368 - acc: 0.6497\n",
      "Epoch 21/150\n",
      "768/768 [==============================] - 0s 106us/sample - loss: 0.6369 - acc: 0.6497\n",
      "Epoch 22/150\n",
      "768/768 [==============================] - 0s 158us/sample - loss: 0.6362 - acc: 0.6497\n",
      "Epoch 23/150\n",
      "768/768 [==============================] - 0s 182us/sample - loss: 0.6364 - acc: 0.6510\n",
      "Epoch 24/150\n",
      "768/768 [==============================] - 0s 170us/sample - loss: 0.6356 - acc: 0.6510\n",
      "Epoch 25/150\n",
      "768/768 [==============================] - 0s 124us/sample - loss: 0.6350 - acc: 0.6510\n",
      "Epoch 26/150\n",
      "768/768 [==============================] - 0s 87us/sample - loss: 0.6347 - acc: 0.6510\n",
      "Epoch 27/150\n",
      "768/768 [==============================] - 0s 112us/sample - loss: 0.6345 - acc: 0.6510\n",
      "Epoch 28/150\n",
      "768/768 [==============================] - 0s 235us/sample - loss: 0.6347 - acc: 0.6510\n",
      "Epoch 29/150\n",
      "768/768 [==============================] - 0s 156us/sample - loss: 0.6342 - acc: 0.6510\n",
      "Epoch 30/150\n",
      "768/768 [==============================] - 0s 156us/sample - loss: 0.6357 - acc: 0.6510\n",
      "Epoch 31/150\n",
      "768/768 [==============================] - 0s 199us/sample - loss: 0.6353 - acc: 0.6510\n",
      "Epoch 32/150\n",
      "768/768 [==============================] - 0s 185us/sample - loss: 0.6342 - acc: 0.6510\n",
      "Epoch 33/150\n",
      "768/768 [==============================] - 0s 165us/sample - loss: 0.6338 - acc: 0.6510\n",
      "Epoch 34/150\n",
      "768/768 [==============================] - 0s 223us/sample - loss: 0.6335 - acc: 0.6510\n",
      "Epoch 35/150\n",
      "768/768 [==============================] - 0s 194us/sample - loss: 0.6334 - acc: 0.6510\n",
      "Epoch 36/150\n",
      "768/768 [==============================] - 0s 161us/sample - loss: 0.6337 - acc: 0.6510\n",
      "Epoch 37/150\n",
      "768/768 [==============================] - 0s 198us/sample - loss: 0.6331 - acc: 0.6510\n",
      "Epoch 38/150\n",
      "768/768 [==============================] - 0s 199us/sample - loss: 0.6337 - acc: 0.6510\n",
      "Epoch 39/150\n",
      "768/768 [==============================] - 0s 111us/sample - loss: 0.6335 - acc: 0.6523\n",
      "Epoch 40/150\n",
      "768/768 [==============================] - 0s 94us/sample - loss: 0.6334 - acc: 0.6510\n",
      "Epoch 41/150\n",
      "768/768 [==============================] - 0s 96us/sample - loss: 0.6332 - acc: 0.6510\n",
      "Epoch 42/150\n",
      "768/768 [==============================] - 0s 97us/sample - loss: 0.6326 - acc: 0.6510\n",
      "Epoch 43/150\n",
      "768/768 [==============================] - 0s 100us/sample - loss: 0.6329 - acc: 0.6510\n",
      "Epoch 44/150\n",
      "768/768 [==============================] - 0s 141us/sample - loss: 0.6331 - acc: 0.6510\n",
      "Epoch 45/150\n",
      "768/768 [==============================] - 0s 232us/sample - loss: 0.6328 - acc: 0.6510\n",
      "Epoch 46/150\n",
      "768/768 [==============================] - 0s 112us/sample - loss: 0.6324 - acc: 0.6510\n",
      "Epoch 47/150\n",
      "768/768 [==============================] - 0s 93us/sample - loss: 0.6320 - acc: 0.6510\n",
      "Epoch 48/150\n",
      "768/768 [==============================] - 0s 99us/sample - loss: 0.6319 - acc: 0.6510\n",
      "Epoch 49/150\n",
      "768/768 [==============================] - 0s 133us/sample - loss: 0.6322 - acc: 0.6510\n",
      "Epoch 50/150\n",
      "768/768 [==============================] - 0s 265us/sample - loss: 0.6318 - acc: 0.6510\n",
      "Epoch 51/150\n",
      "768/768 [==============================] - 0s 118us/sample - loss: 0.6315 - acc: 0.6510\n",
      "Epoch 52/150\n",
      "768/768 [==============================] - 0s 112us/sample - loss: 0.6314 - acc: 0.6510\n",
      "Epoch 53/150\n",
      "768/768 [==============================] - 0s 233us/sample - loss: 0.6324 - acc: 0.6510\n",
      "Epoch 54/150\n",
      "768/768 [==============================] - 0s 249us/sample - loss: 0.6313 - acc: 0.6510\n",
      "Epoch 55/150\n",
      "768/768 [==============================] - 0s 214us/sample - loss: 0.6311 - acc: 0.6510\n",
      "Epoch 56/150\n",
      "768/768 [==============================] - 0s 195us/sample - loss: 0.6311 - acc: 0.6510\n",
      "Epoch 57/150\n",
      "768/768 [==============================] - 0s 189us/sample - loss: 0.6313 - acc: 0.6510\n",
      "Epoch 58/150\n",
      "768/768 [==============================] - 0s 112us/sample - loss: 0.6310 - acc: 0.6510\n",
      "Epoch 59/150\n",
      "768/768 [==============================] - 0s 181us/sample - loss: 0.6308 - acc: 0.6510\n",
      "Epoch 60/150\n",
      "768/768 [==============================] - 0s 261us/sample - loss: 0.6311 - acc: 0.6510\n",
      "Epoch 61/150\n",
      "768/768 [==============================] - 0s 200us/sample - loss: 0.6302 - acc: 0.6510\n",
      "Epoch 62/150\n",
      "768/768 [==============================] - 0s 124us/sample - loss: 0.6312 - acc: 0.6510\n",
      "Epoch 63/150\n",
      "768/768 [==============================] - 0s 131us/sample - loss: 0.6303 - acc: 0.6510\n",
      "Epoch 64/150\n",
      "768/768 [==============================] - 0s 117us/sample - loss: 0.6304 - acc: 0.6510\n",
      "Epoch 65/150\n",
      "768/768 [==============================] - 0s 108us/sample - loss: 0.6307 - acc: 0.6510\n",
      "Epoch 66/150\n",
      "768/768 [==============================] - 0s 99us/sample - loss: 0.6301 - acc: 0.6510\n",
      "Epoch 67/150\n",
      "768/768 [==============================] - 0s 140us/sample - loss: 0.6304 - acc: 0.6510\n",
      "Epoch 68/150\n",
      "768/768 [==============================] - 0s 167us/sample - loss: 0.6304 - acc: 0.6510\n",
      "Epoch 69/150\n",
      "768/768 [==============================] - 0s 136us/sample - loss: 0.6299 - acc: 0.6510\n",
      "Epoch 70/150\n",
      "768/768 [==============================] - 0s 104us/sample - loss: 0.6297 - acc: 0.6510\n",
      "Epoch 71/150\n",
      "768/768 [==============================] - 0s 94us/sample - loss: 0.6292 - acc: 0.6510\n",
      "Epoch 72/150\n",
      "768/768 [==============================] - 0s 190us/sample - loss: 0.6291 - acc: 0.6510\n",
      "Epoch 73/150\n",
      "768/768 [==============================] - 0s 243us/sample - loss: 0.6290 - acc: 0.6510\n",
      "Epoch 74/150\n",
      "768/768 [==============================] - 0s 189us/sample - loss: 0.6288 - acc: 0.6510\n",
      "Epoch 75/150\n",
      "768/768 [==============================] - 0s 144us/sample - loss: 0.6287 - acc: 0.6510\n",
      "Epoch 76/150\n",
      "768/768 [==============================] - 0s 222us/sample - loss: 0.6288 - acc: 0.6510\n",
      "Epoch 77/150\n",
      "768/768 [==============================] - 0s 110us/sample - loss: 0.6285 - acc: 0.6510\n",
      "Epoch 78/150\n",
      "768/768 [==============================] - 0s 95us/sample - loss: 0.6286 - acc: 0.6523\n",
      "Epoch 79/150\n",
      "768/768 [==============================] - 0s 92us/sample - loss: 0.6281 - acc: 0.6510\n",
      "Epoch 80/150\n",
      "768/768 [==============================] - 0s 92us/sample - loss: 0.6282 - acc: 0.6510\n",
      "Epoch 81/150\n",
      "768/768 [==============================] - 0s 96us/sample - loss: 0.6280 - acc: 0.6510\n",
      "Epoch 82/150\n",
      "768/768 [==============================] - 0s 99us/sample - loss: 0.6279 - acc: 0.6510\n",
      "Epoch 83/150\n",
      "768/768 [==============================] - 0s 114us/sample - loss: 0.6276 - acc: 0.6510\n",
      "Epoch 84/150\n",
      "768/768 [==============================] - 0s 124us/sample - loss: 0.6277 - acc: 0.6510\n",
      "Epoch 85/150\n",
      "768/768 [==============================] - 0s 144us/sample - loss: 0.6289 - acc: 0.6510\n",
      "Epoch 86/150\n",
      "768/768 [==============================] - 0s 105us/sample - loss: 0.6284 - acc: 0.6510\n",
      "Epoch 87/150\n",
      "768/768 [==============================] - 0s 109us/sample - loss: 0.6272 - acc: 0.6523\n",
      "Epoch 88/150\n",
      "768/768 [==============================] - 0s 93us/sample - loss: 0.6280 - acc: 0.6510\n",
      "Epoch 89/150\n",
      "768/768 [==============================] - 0s 98us/sample - loss: 0.6270 - acc: 0.6523\n",
      "Epoch 90/150\n",
      "768/768 [==============================] - 0s 97us/sample - loss: 0.6273 - acc: 0.6523\n",
      "Epoch 91/150\n",
      "768/768 [==============================] - 0s 94us/sample - loss: 0.6271 - acc: 0.6523\n",
      "Epoch 92/150\n",
      "768/768 [==============================] - 0s 98us/sample - loss: 0.6270 - acc: 0.6510\n",
      "Epoch 93/150\n",
      "768/768 [==============================] - 0s 135us/sample - loss: 0.6264 - acc: 0.6510\n",
      "Epoch 94/150\n",
      "768/768 [==============================] - 0s 265us/sample - loss: 0.6265 - acc: 0.6510\n",
      "Epoch 95/150\n",
      "768/768 [==============================] - 0s 204us/sample - loss: 0.6266 - acc: 0.6523\n",
      "Epoch 96/150\n",
      "768/768 [==============================] - 0s 183us/sample - loss: 0.6268 - acc: 0.6536\n",
      "Epoch 97/150\n",
      "768/768 [==============================] - 0s 182us/sample - loss: 0.6260 - acc: 0.6510\n",
      "Epoch 98/150\n",
      "768/768 [==============================] - 0s 229us/sample - loss: 0.6267 - acc: 0.6510\n",
      "Epoch 99/150\n",
      "768/768 [==============================] - 0s 212us/sample - loss: 0.6274 - acc: 0.6523\n",
      "Epoch 100/150\n",
      "768/768 [==============================] - 0s 266us/sample - loss: 0.6256 - acc: 0.6523\n",
      "Epoch 101/150\n",
      "768/768 [==============================] - 0s 149us/sample - loss: 0.6261 - acc: 0.6510\n",
      "Epoch 102/150\n",
      "768/768 [==============================] - 0s 98us/sample - loss: 0.6256 - acc: 0.6523\n",
      "Epoch 103/150\n",
      "768/768 [==============================] - 0s 108us/sample - loss: 0.6266 - acc: 0.6523\n",
      "Epoch 104/150\n",
      "768/768 [==============================] - 0s 98us/sample - loss: 0.6253 - acc: 0.6523\n",
      "Epoch 105/150\n",
      "768/768 [==============================] - 0s 105us/sample - loss: 0.6252 - acc: 0.6523\n",
      "Epoch 106/150\n",
      "768/768 [==============================] - 0s 95us/sample - loss: 0.6254 - acc: 0.6510\n",
      "Epoch 107/150\n",
      "768/768 [==============================] - 0s 100us/sample - loss: 0.6247 - acc: 0.6523\n",
      "Epoch 108/150\n",
      "768/768 [==============================] - 0s 121us/sample - loss: 0.6251 - acc: 0.6523\n",
      "Epoch 109/150\n",
      "768/768 [==============================] - 0s 157us/sample - loss: 0.6247 - acc: 0.6523\n",
      "Epoch 110/150\n",
      "768/768 [==============================] - 0s 114us/sample - loss: 0.6245 - acc: 0.6510\n",
      "Epoch 111/150\n",
      "768/768 [==============================] - 0s 96us/sample - loss: 0.6250 - acc: 0.6523\n",
      "Epoch 112/150\n",
      "768/768 [==============================] - 0s 100us/sample - loss: 0.6248 - acc: 0.6523\n",
      "Epoch 113/150\n",
      "768/768 [==============================] - 0s 118us/sample - loss: 0.6250 - acc: 0.6523\n",
      "Epoch 114/150\n",
      "768/768 [==============================] - 0s 305us/sample - loss: 0.6247 - acc: 0.6510\n",
      "Epoch 115/150\n",
      "768/768 [==============================] - 0s 160us/sample - loss: 0.6238 - acc: 0.6523\n",
      "Epoch 116/150\n",
      "768/768 [==============================] - 0s 97us/sample - loss: 0.6241 - acc: 0.6523\n",
      "Epoch 117/150\n",
      "768/768 [==============================] - 0s 126us/sample - loss: 0.6238 - acc: 0.6523\n",
      "Epoch 118/150\n",
      "768/768 [==============================] - 0s 201us/sample - loss: 0.6236 - acc: 0.6523\n",
      "Epoch 119/150\n",
      "768/768 [==============================] - 0s 192us/sample - loss: 0.6238 - acc: 0.6523\n",
      "Epoch 120/150\n",
      "768/768 [==============================] - 0s 110us/sample - loss: 0.6233 - acc: 0.6523\n",
      "Epoch 121/150\n",
      "768/768 [==============================] - 0s 94us/sample - loss: 0.6238 - acc: 0.6510\n",
      "Epoch 122/150\n",
      "768/768 [==============================] - 0s 111us/sample - loss: 0.6235 - acc: 0.6536\n",
      "Epoch 123/150\n",
      "768/768 [==============================] - 0s 117us/sample - loss: 0.6229 - acc: 0.6523\n",
      "Epoch 124/150\n",
      "768/768 [==============================] - 0s 115us/sample - loss: 0.6231 - acc: 0.6523\n",
      "Epoch 125/150\n",
      "768/768 [==============================] - 0s 109us/sample - loss: 0.6226 - acc: 0.6523\n",
      "Epoch 126/150\n",
      "768/768 [==============================] - 0s 110us/sample - loss: 0.6229 - acc: 0.6523\n",
      "Epoch 127/150\n",
      "768/768 [==============================] - 0s 113us/sample - loss: 0.6225 - acc: 0.6523\n",
      "Epoch 128/150\n",
      "768/768 [==============================] - 0s 92us/sample - loss: 0.6225 - acc: 0.6510\n",
      "Epoch 129/150\n",
      "768/768 [==============================] - 0s 98us/sample - loss: 0.6223 - acc: 0.6536\n",
      "Epoch 130/150\n",
      "768/768 [==============================] - 0s 99us/sample - loss: 0.6228 - acc: 0.6510\n",
      "Epoch 131/150\n",
      "768/768 [==============================] - 0s 163us/sample - loss: 0.6224 - acc: 0.6510\n",
      "Epoch 132/150\n",
      "768/768 [==============================] - 0s 113us/sample - loss: 0.6225 - acc: 0.6523\n",
      "Epoch 133/150\n",
      "768/768 [==============================] - 0s 98us/sample - loss: 0.6217 - acc: 0.6523\n",
      "Epoch 134/150\n",
      "768/768 [==============================] - 0s 104us/sample - loss: 0.6223 - acc: 0.6536\n",
      "Epoch 135/150\n",
      "768/768 [==============================] - 0s 213us/sample - loss: 0.6219 - acc: 0.6523\n",
      "Epoch 136/150\n",
      "768/768 [==============================] - 0s 189us/sample - loss: 0.6215 - acc: 0.6536\n",
      "Epoch 137/150\n",
      "768/768 [==============================] - 0s 96us/sample - loss: 0.6217 - acc: 0.6523\n",
      "Epoch 138/150\n",
      "768/768 [==============================] - 0s 97us/sample - loss: 0.6210 - acc: 0.6523\n",
      "Epoch 139/150\n",
      "768/768 [==============================] - 0s 95us/sample - loss: 0.6211 - acc: 0.6523\n",
      "Epoch 140/150\n",
      "768/768 [==============================] - 0s 98us/sample - loss: 0.6213 - acc: 0.6523\n",
      "Epoch 141/150\n",
      "768/768 [==============================] - 0s 100us/sample - loss: 0.6206 - acc: 0.6510\n",
      "Epoch 142/150\n",
      "768/768 [==============================] - 0s 128us/sample - loss: 0.6205 - acc: 0.6523\n",
      "Epoch 143/150\n",
      "768/768 [==============================] - 0s 279us/sample - loss: 0.6210 - acc: 0.6523\n",
      "Epoch 144/150\n",
      "768/768 [==============================] - 0s 117us/sample - loss: 0.6208 - acc: 0.6523\n",
      "Epoch 145/150\n",
      "768/768 [==============================] - 0s 95us/sample - loss: 0.6206 - acc: 0.6536\n",
      "Epoch 146/150\n",
      "768/768 [==============================] - 0s 101us/sample - loss: 0.6201 - acc: 0.6523\n",
      "Epoch 147/150\n",
      "768/768 [==============================] - 0s 98us/sample - loss: 0.6209 - acc: 0.6523\n",
      "Epoch 148/150\n",
      "768/768 [==============================] - 0s 94us/sample - loss: 0.6204 - acc: 0.6536\n",
      "Epoch 149/150\n",
      "768/768 [==============================] - 0s 97us/sample - loss: 0.6199 - acc: 0.6523\n",
      "Epoch 150/150\n",
      "768/768 [==============================] - 0s 110us/sample - loss: 0.6202 - acc: 0.6510\n",
      "_________________________________________________________________\n",
      "Layer (type)                 Output Shape              Param #   \n",
      "=================================================================\n",
      "dense_10 (Dense)             (None, 4)                 36        \n",
      "_________________________________________________________________\n",
      "dense_11 (Dense)             (None, 3)                 15        \n",
      "_________________________________________________________________\n",
      "dense_12 (Dense)             (None, 1)                 4         \n",
      "=================================================================\n",
      "Total params: 55\n",
      "Trainable params: 55\n",
      "Non-trainable params: 0\n",
      "_________________________________________________________________\n"
     ]
    }
   ],
   "source": [
    "# Tell me your ideas\n",
    "\n",
    "model_improved = Sequential()\n",
    "\n",
    "model_improved.add(Dense(4, input_dim=8, activation='relu'))\n",
    "model_improved.add(Dense(3, activation='sigmoid'))\n",
    "model_improved.add(Dense(1, activation ='sigmoid'))\n",
    "\n",
    "model_improved.compile(loss='binary_crossentropy', optimizer='adam',\n",
    "                      metrics=['accuracy'])\n",
    "\n",
    "model_improved.fit(X,y, epochs=150)\n",
    "\n",
    "# Let's inspect our new architecture\n",
    "model_improved.summary()"
   ]
  },
  {
   "cell_type": "code",
   "execution_count": 26,
   "metadata": {},
   "outputs": [
    {
     "name": "stdout",
     "output_type": "stream",
     "text": [
      "768/768 [==============================] - 0s 301us/sample - loss: 0.6189 - acc: 0.6523\n",
      "acc: 74.21875\n"
     ]
    }
   ],
   "source": [
    "score = model_improved.evaluate(X,y)\n",
    "print(f\"{model_improved.metrics_names[1]}: {scores[1]*100}\")"
   ]
  },
  {
   "cell_type": "markdown",
   "metadata": {
    "colab_type": "text",
    "id": "tcjMuxtn6wIQ"
   },
   "source": [
    "# Activation Functions\n",
    "\n",
    "What is an activation function and how does it work?\n",
    "\n",
    "- Takes in a weighted sum of inputs + a bias from the previous layer and outputs an \"activation\" value.\n",
    "- Based its inputs the neuron decides how 'activated' it should be. This can be thought of as the neuron deciding how strongly to fire. You can also think of it as if the neuron is deciding how much of the signal that it has received to pass onto the next layer. \n",
    "- Our choice of activation function does not only affect signal that is passed forward but also affects the backpropagation algorithm. It affects how we update weights in reverse order since activated weight/input sums become the inputs of the next layer. \n"
   ]
  },
  {
   "cell_type": "markdown",
   "metadata": {
    "colab_type": "text",
    "id": "n_b0u8Ch60bA"
   },
   "source": [
    "## Step Function\n",
    "\n",
    "![Heaviside Step Function](https://upload.wikimedia.org/wikipedia/commons/thumb/d/d9/Dirac_distribution_CDF.svg/325px-Dirac_distribution_CDF.svg.png)\n",
    "\n",
    "All or nothing, a little extreme, which is fine, but makes updating weights through backpropagation impossible. Why? remember that during backpropagation we use derivatives in order to determine how much to update or not update weights. What is the derivative of the step function?"
   ]
  },
  {
   "cell_type": "markdown",
   "metadata": {
    "colab_type": "text",
    "id": "vKR0YhIVEnXZ"
   },
   "source": [
    "## Linear Function\n",
    "\n",
    "![Linear Function](http://www.roconnell.net/Parent%20function/linear.gif)\n",
    "\n",
    "The linear function takes the opposite tact from the step function and passes the signal onto the next layer by a constant factor. There are problems with this but the biggest problems again lie in backpropagation. The derivative of any linear function is a horizontal line which would indicate that we should update all weights by a constant amount every time -which on balance wouldn't change the behavior of our network. Linear functions are typically only used for very simple tasks where interpretability is important, but if interpretability is your highest priority, you probably shouldn't be using neural networks in the first place."
   ]
  },
  {
   "cell_type": "markdown",
   "metadata": {
    "colab_type": "text",
    "id": "JFurIVL6EkQ8"
   },
   "source": [
    "## Sigmoid Function\n",
    "\n",
    "![Sigmoid Function](https://upload.wikimedia.org/wikipedia/commons/thumb/8/88/Logistic-curve.svg/480px-Logistic-curve.svg.png)\n",
    "\n",
    "The sigmoid function works great as an activation function! it's continuously differentiable, its derivative doesn't have a constant slope, and having the higher slope in the middle pushes y value predictions towards extremes which is particularly useful for binary classification problems. I mean, this is why we use it as the squishifier in logistic regression as well. It constrains output, but over repeated epochs pushes predictions towards a strong binary prediction. \n",
    "\n",
    "What's the biggest problem with the sigmoid function? The fact that its slope gets pretty flat so quickly after its departure from zero. This means that updating weights based on its gradient really diminishes the size of our weight updates as our model gets more confident about its classifications. This is why even after so many iterations with our test score example we couldn't reach the levels of fit that our gradient descent based model could reach in just a few epochs."
   ]
  },
  {
   "cell_type": "markdown",
   "metadata": {
    "colab_type": "text",
    "id": "hm6p1HWbEhYi"
   },
   "source": [
    "## Tanh Function\n",
    "\n",
    "![Tanh Function](http://mathworld.wolfram.com/images/interactive/TanhReal.gif)\n",
    "\n",
    "What if the sigmoid function didn't get so flat quite as soon when moving away from zero and was a little bit steeper in the middle? That's basically the Tanh function. The Tanh function can actually be created by scaling the sigmoid function by 2 in the y dimension and subtracting 1 from all values. It has basically the same properties as the sigmoid, still struggles from diminishingly flat gradients as we move away from 0, but its derivative is higher around 0 causing weights to move to the extremes a little faster. "
   ]
  },
  {
   "cell_type": "markdown",
   "metadata": {
    "colab_type": "text",
    "id": "sFOn_L6gEcz1"
   },
   "source": [
    "## ReLU Function\n",
    "\n",
    "![ReLU Function](https://cdn-images-1.medium.com/max/937/1*oePAhrm74RNnNEolprmTaQ.png)\n",
    "\n",
    "ReLU stands for Rectified Linear Units it is by far the most commonly used activation function in modern neural networks. It doesn't activate neurons that are being passed a negative signal and passes on positive signals. Think about why this might be useful. Remember how a lot of our initial weights got set to negative numbers by chance? This would have dealt with those negative weights a lot faster than the sigmoid function updating. What does the derivative of this function look like? It looks like the step function! This means that not all neurons are activated. With sigmoid basically all of our neurons are passing some amount of signal even if it's small making it hard for the network to differentiate important and less important connections. ReLU turns off a portion of our less important neurons which decreases computational load, but also helps the network learn what the most important connections are faster. \n",
    "\n",
    "What's the problem with relu? Well the left half of its derivative function shows that for neurons that are initialized with weights that cause them to have no activation, our gradient will not update those neuron's weights, this can lead to dead neurons that never fire and whose weights never get updated. We would probably want to update the weights of neurons that didn't fire even if it's just by a little bit in case we got unlucky with our initial weights and want to give those neurons a chance of turning back on in the future."
   ]
  },
  {
   "cell_type": "markdown",
   "metadata": {
    "colab_type": "text",
    "id": "XWdvWOBIETwk"
   },
   "source": [
    "## Leaky ReLU\n",
    "\n",
    "![Leaky ReLU](https://cdn-images-1.medium.com/max/1600/1*ypsvQH7kvtI2BhzR2eT_Sw.png)\n",
    "\n",
    "Leaky ReLU accomplishes exactly that! it avoids having a gradient of 0 on the left side of its derivative function. This means that even \"dead\" neurons have a chance of being revived over enough iterations. In some specifications the slope of the leaky left-hand side can also be experimented with as a hyperparameter of the model!"
   ]
  },
  {
   "cell_type": "markdown",
   "metadata": {
    "colab_type": "text",
    "id": "FcAxkNFREMFb"
   },
   "source": [
    "## Softmax Function\n",
    "\n",
    "![Softmax Function](https://cdn-images-1.medium.com/max/800/1*670CdxchunD-yAuUWdI7Bw.png)\n",
    "\n",
    "Like the sigmoid function but more useful for multi-class classification problems. The softmax function can take any set of inputs and translate them into probabilities that sum up to 1. This means that we can throw any list of outputs at it and it will translate them into probabilities, this is extremely useful for multi-class classification problems. Like MNIST for example..."
   ]
  },
  {
   "cell_type": "markdown",
   "metadata": {
    "colab_type": "text",
    "id": "23-XRRXKHs34"
   },
   "source": [
    "## Major takeaways\n",
    "\n",
    "- ReLU is generally better at obtaining the optimal model fit.\n",
    "- Sigmoid and its derivatives are usually better at classification problems.\n",
    "- Softmax for multi-class classification problems. \n",
    "\n",
    "You'll typically see ReLU used for all initial layers and then the final layer being sigmoid or softmax for classification problems. But you can experiment and tune these selections as hyperparameters as well!"
   ]
  },
  {
   "cell_type": "markdown",
   "metadata": {
    "colab_type": "text",
    "id": "TWuoXZCCKCI7"
   },
   "source": [
    "## MNIST with Keras \n",
    "\n",
    "### This will be a good chance to bring up dropout regularization. :)"
   ]
  },
  {
   "cell_type": "code",
   "execution_count": 9,
   "metadata": {
    "colab": {},
    "colab_type": "code",
    "id": "jmJ_5azs04pU"
   },
   "outputs": [],
   "source": [
    "### Let's do it!\n",
    "\n",
    "import tensorflow\n",
    "from tensorflow import keras\n",
    "from tensorflow.keras.datasets import mnist\n",
    "from tensorflow.keras.models import Sequential\n",
    "from tensorflow.keras.layers import Dense, Dropout\n",
    "\n",
    "# Stretch - use dropout \n",
    "import numpy as np"
   ]
  },
  {
   "cell_type": "code",
   "execution_count": 3,
   "metadata": {},
   "outputs": [],
   "source": [
    "# Hyper Parameters\n",
    "batch_size = 64\n",
    "num_classes = 10\n",
    "epochs = 20"
   ]
  },
  {
   "cell_type": "code",
   "execution_count": 4,
   "metadata": {},
   "outputs": [],
   "source": [
    "# Load the Data\n",
    "(X_train, y_train), (X_test, y_test) = mnist.load_data()"
   ]
  },
  {
   "cell_type": "code",
   "execution_count": 5,
   "metadata": {},
   "outputs": [
    {
     "data": {
      "text/plain": [
       "(28, 28)"
      ]
     },
     "execution_count": 5,
     "metadata": {},
     "output_type": "execute_result"
    }
   ],
   "source": [
    "X_train[0].shape"
   ]
  },
  {
   "cell_type": "code",
   "execution_count": 6,
   "metadata": {},
   "outputs": [],
   "source": [
    "# Reshape the data\n",
    "X_train = X_train.reshape(60000, 784)\n",
    "X_test = X_test.reshape(10000, 784)"
   ]
  },
  {
   "cell_type": "code",
   "execution_count": 7,
   "metadata": {},
   "outputs": [
    {
     "data": {
      "text/plain": [
       "5"
      ]
     },
     "execution_count": 7,
     "metadata": {},
     "output_type": "execute_result"
    }
   ],
   "source": [
    "# X Variable Types\n",
    "y_train[0]"
   ]
  },
  {
   "cell_type": "code",
   "execution_count": 10,
   "metadata": {},
   "outputs": [],
   "source": [
    "# Correct Encoding on Y\n",
    "\n",
    "y_train = tensorflow.keras.utils.to_categorical(y_train, num_classes)\n",
    "y_test = tensorflow.keras.utils.to_categorical(y_test, num_classes)"
   ]
  },
  {
   "cell_type": "code",
   "execution_count": 11,
   "metadata": {},
   "outputs": [
    {
     "data": {
      "text/plain": [
       "array([0., 0., 0., 0., 1., 0., 0., 0., 0., 0.], dtype=float32)"
      ]
     },
     "execution_count": 11,
     "metadata": {},
     "output_type": "execute_result"
    }
   ],
   "source": [
    "y_train[2]"
   ]
  },
  {
   "cell_type": "code",
   "execution_count": 14,
   "metadata": {},
   "outputs": [
    {
     "name": "stdout",
     "output_type": "stream",
     "text": [
      "_________________________________________________________________\n",
      "Layer (type)                 Output Shape              Param #   \n",
      "=================================================================\n",
      "dense_3 (Dense)              (None, 16)                12560     \n",
      "_________________________________________________________________\n",
      "dense_4 (Dense)              (None, 16)                272       \n",
      "_________________________________________________________________\n",
      "dense_5 (Dense)              (None, 10)                170       \n",
      "=================================================================\n",
      "Total params: 13,002\n",
      "Trainable params: 13,002\n",
      "Non-trainable params: 0\n",
      "_________________________________________________________________\n"
     ]
    }
   ],
   "source": [
    "# Instantiate Model\n",
    "mnist_model = Sequential()\n",
    "\n",
    "# Input => Hidden\n",
    "mnist_model.add(Dense(16, input_dim=784, activation='relu'))\n",
    "\n",
    "# Hidden\n",
    "mnist_model.add(Dense(16, activation='relu')) \n",
    "\n",
    "# Output\n",
    "mnist_model.add(Dense(10,activation='softmax'))\n",
    "\n",
    "#Compile\n",
    "mnist_model.compile(loss='categorical_crossentropy',\n",
    "                    optimizer='adam',\n",
    "                    metrics=['accuracy'])\n",
    "\n",
    "mnist_model.summary()"
   ]
  },
  {
   "cell_type": "code",
   "execution_count": 59,
   "metadata": {},
   "outputs": [
    {
     "data": {
      "text/plain": [
       "(10000, 10)"
      ]
     },
     "execution_count": 59,
     "metadata": {},
     "output_type": "execute_result"
    }
   ],
   "source": [
    "y_test.shape"
   ]
  },
  {
   "cell_type": "code",
   "execution_count": 15,
   "metadata": {},
   "outputs": [
    {
     "name": "stdout",
     "output_type": "stream",
     "text": [
      "10000/10000 [==============================] - 0s 48us/sample - loss: 0.3654 - acc: 0.9068\n",
      "acc: 90.67999720573425\n"
     ]
    }
   ],
   "source": [
    "history = mnist_model.fit(X_train, y_train, batch_size=32, epochs=epochs, validation_split=.1, verbose=0)\n",
    "scores = mnist_model.evaluate(X_test, y_test)\n",
    "print(f'{mnist_model.metrics_names[1]}: {scores[1]*100}')"
   ]
  },
  {
   "cell_type": "markdown",
   "metadata": {
    "colab_type": "text",
    "id": "CKmx8153w9Ci"
   },
   "source": [
    "## What if we use dropout techniques to prevent overfitting? How does that affect our model?\n",
    "\n",
    "![Regularization](https://upload.wikimedia.org/wikipedia/commons/thumb/0/02/Regularization.svg/354px-Regularization.svg.png)"
   ]
  },
  {
   "cell_type": "code",
   "execution_count": 16,
   "metadata": {},
   "outputs": [
    {
     "name": "stdout",
     "output_type": "stream",
     "text": [
      "_________________________________________________________________\n",
      "Layer (type)                 Output Shape              Param #   \n",
      "=================================================================\n",
      "dense_6 (Dense)              (None, 32)                25120     \n",
      "_________________________________________________________________\n",
      "dropout_2 (Dropout)          (None, 32)                0         \n",
      "_________________________________________________________________\n",
      "dense_7 (Dense)              (None, 16)                528       \n",
      "_________________________________________________________________\n",
      "dropout_3 (Dropout)          (None, 16)                0         \n",
      "_________________________________________________________________\n",
      "dense_8 (Dense)              (None, 10)                170       \n",
      "=================================================================\n",
      "Total params: 25,818\n",
      "Trainable params: 25,818\n",
      "Non-trainable params: 0\n",
      "_________________________________________________________________\n"
     ]
    }
   ],
   "source": [
    "### Let's do it!\n",
    "from tensorflow import keras \n",
    "from tensorflow.keras.datasets import mnist\n",
    "from tensorflow.keras.models import Sequential\n",
    "from tensorflow.keras.layers import Dense, Dropout\n",
    "\n",
    "import numpy as np\n",
    "\n",
    "mnist_model = Sequential()\n",
    "\n",
    "# Hidden\n",
    "mnist_model.add(Dense(32, input_dim=784, activation='relu'))\n",
    "mnist_model.add(Dropout(0.2))\n",
    "mnist_model.add(Dense(16, activation='relu'))\n",
    "mnist_model.add(Dropout(0.2))\n",
    "# Output Layer\n",
    "mnist_model.add(Dense(10, activation='softmax'))\n",
    "\n",
    "mnist_model.compile(loss='categorical_crossentropy',\n",
    "                    optimizer='adam', \n",
    "                    metrics=['accuracy'])\n",
    "mnist_model.summary()"
   ]
  },
  {
   "cell_type": "code",
   "execution_count": null,
   "metadata": {},
   "outputs": [],
   "source": [
    "history = mnist_model.fit(X_train, y_train, batch_size=32, epochs=epochs, validation_split=.1, verbose=0)\n",
    "scores = mnist_model.evaluate(X_test, y_test)\n",
    "print(f'{mnist_model.metrics_names[1]}: {scores[1]*100}')"
   ]
  },
  {
   "cell_type": "code",
   "execution_count": null,
   "metadata": {},
   "outputs": [],
   "source": []
  }
 ],
 "metadata": {
  "colab": {
   "collapsed_sections": [],
   "name": "LS_DS_433_Keras_Lecture.ipynb",
   "provenance": [],
   "version": "0.3.2"
  },
  "kernelspec": {
   "display_name": "U4-S1-NLP (Python3)",
   "language": "python",
   "name": "u4-s1-nlp"
  },
  "language_info": {
   "codemirror_mode": {
    "name": "ipython",
    "version": 3
   },
   "file_extension": ".py",
   "mimetype": "text/x-python",
   "name": "python",
   "nbconvert_exporter": "python",
   "pygments_lexer": "ipython3",
   "version": "3.7.3"
  }
 },
 "nbformat": 4,
 "nbformat_minor": 4
}
